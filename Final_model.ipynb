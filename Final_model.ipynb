{
  "nbformat": 4,
  "nbformat_minor": 0,
  "metadata": {
    "colab": {
      "name": "Final_model.ipynb",
      "provenance": [],
      "collapsed_sections": [],
      "machine_shape": "hm",
      "authorship_tag": "ABX9TyMm6HrREZ2TbXrkY6S5JGbm",
      "include_colab_link": true
    },
    "kernelspec": {
      "name": "python3",
      "display_name": "Python 3"
    },
    "language_info": {
      "name": "python"
    },
    "accelerator": "GPU"
  },
  "cells": [
    {
      "cell_type": "markdown",
      "metadata": {
        "id": "view-in-github",
        "colab_type": "text"
      },
      "source": [
        "<a href=\"https://colab.research.google.com/github/Samgoles/Covid-19-Paper-Rec-Engine./blob/main/Final_model.ipynb\" target=\"_parent\"><img src=\"https://colab.research.google.com/assets/colab-badge.svg\" alt=\"Open In Colab\"/></a>"
      ]
    },
    {
      "cell_type": "code",
      "execution_count": null,
      "metadata": {
        "colab": {
          "base_uri": "https://localhost:8080/"
        },
        "id": "__qwx7ZrvGLx",
        "outputId": "3bf5cd0e-9181-4908-ca2e-f03506d907cc"
      },
      "outputs": [
        {
          "output_type": "stream",
          "name": "stdout",
          "text": [
            "Mounted at /content/drive\n"
          ]
        }
      ],
      "source": [
        "import pandas as pd\n",
        "import numpy as np\n",
        "import matplotlib.pyplot as plt\n",
        "plt.style.use('ggplot')\n",
        "from google.colab import drive\n",
        "drive.mount('/content/drive')"
      ]
    },
    {
      "cell_type": "code",
      "source": [
        "DF=pd.read_csv('/content/drive/MyDrive/BfinalLHL/DF_final.csv')"
      ],
      "metadata": {
        "colab": {
          "base_uri": "https://localhost:8080/"
        },
        "id": "CLyXrT2KvOYZ",
        "outputId": "00590eda-a314-4893-8c64-98c7774355a0"
      },
      "execution_count": null,
      "outputs": [
        {
          "output_type": "stream",
          "name": "stderr",
          "text": [
            "/usr/local/lib/python3.7/dist-packages/IPython/core/interactiveshell.py:2882: DtypeWarning: Columns (8) have mixed types.Specify dtype option on import or set low_memory=False.\n",
            "  exec(code_obj, self.user_global_ns, self.user_ns)\n"
          ]
        }
      ]
    },
    {
      "cell_type": "code",
      "source": [
        "import pandas as pd\n",
        "import zipfile\n",
        "\n",
        "zf = zipfile.ZipFile('/content/drive/MyDrive/BfinalLHL/Bclean2.zip') \n",
        "Bclean2 = pd.read_csv(zf.open('Bclean2.csv'))"
      ],
      "metadata": {
        "id": "6xo1eDo0vW6Y"
      },
      "execution_count": null,
      "outputs": []
    },
    {
      "cell_type": "code",
      "source": [
        "#data_lda = piplinelda20.transform(DF2['clean_abs'])\n",
        "Df=pd.read_csv('/content/drive/MyDrive/BfinalLHL/Lda20_XX.csv')\n",
        "DF2=Df[Df.pub_year>=2020].iloc[0:10000,:]"
      ],
      "metadata": {
        "colab": {
          "base_uri": "https://localhost:8080/"
        },
        "id": "a8tApAwCG34e",
        "outputId": "4684b48d-738b-4344-b17e-d9f9cb5b0799"
      },
      "execution_count": null,
      "outputs": [
        {
          "output_type": "stream",
          "name": "stderr",
          "text": [
            "/usr/local/lib/python3.7/dist-packages/IPython/core/interactiveshell.py:2882: DtypeWarning: Columns (9) have mixed types.Specify dtype option on import or set low_memory=False.\n",
            "  exec(code_obj, self.user_global_ns, self.user_ns)\n"
          ]
        }
      ]
    },
    {
      "cell_type": "code",
      "source": [
        "# Importing necessary libraries\n",
        "import pandas as pd\n",
        "import numpy as np\n",
        "import nltk\n",
        "nltk.download('stopwords')\n",
        "from nltk.corpus import stopwords\n",
        "from sklearn.metrics.pairwise import linear_kernel\n",
        "from sklearn.feature_extraction.text import CountVectorizer\n",
        "from sklearn.feature_extraction.text import TfidfVectorizer\n",
        "from nltk.tokenize import RegexpTokenizer\n",
        "import re\n",
        "import string\n",
        "import random\n",
        "from PIL import Image\n",
        "import requests\n",
        "from io import BytesIO\n",
        "import matplotlib.pyplot as plt\n",
        "%matplotlib inline\n",
        "from sklearn.metrics.pairwise import cosine_similarity\n",
        "from gensim.models import Word2Vec\n",
        "from gensim.models.phrases import Phrases, Phraser\n",
        "from matplotlib import pyplot\n",
        "from gensim.models import KeyedVectors"
      ],
      "metadata": {
        "colab": {
          "base_uri": "https://localhost:8080/"
        },
        "id": "VW1gILFzxM9N",
        "outputId": "42e3942f-8735-4abf-9453-1c4cddb8e087"
      },
      "execution_count": null,
      "outputs": [
        {
          "output_type": "stream",
          "name": "stdout",
          "text": [
            "[nltk_data] Downloading package stopwords to /root/nltk_data...\n",
            "[nltk_data]   Unzipping corpora/stopwords.zip.\n"
          ]
        }
      ]
    },
    {
      "cell_type": "markdown",
      "source": [
        "## Average Word2Vec\n",
        "\n",
        "Splitting the descriptions into words and stored in a list called ‘corpus’ for training our word2vec model"
      ],
      "metadata": {
        "id": "TDocix-sxltB"
      }
    },
    {
      "cell_type": "code",
      "source": [
        "#splitting the description into words\n",
        "\n",
        "corpus = []\n",
        "for words in Df['clean_abs']:\n",
        "    corpus.append(words.split())"
      ],
      "metadata": {
        "id": "62MBoUW0xbVO"
      },
      "execution_count": null,
      "outputs": []
    },
    {
      "cell_type": "code",
      "source": [
        "# Downloading the Google pretrained Word2Vec Model\n",
        "#!wget -P /root/input/ -c \"https://s3.amazonaws.com/dl4j-distribution/GoogleNews-vectors-negative300.bin.gz\"\n",
        "\n",
        "EMBEDDING_FILE = '/root/input/GoogleNews-vectors-negative300.bin.gz'\n",
        "google_word2vec = KeyedVectors.load_word2vec_format(EMBEDDING_FILE, binary=True)\n",
        "\n",
        "# Training our corpus with Google Pretrained Model\n",
        "\n",
        "google_model = Word2Vec(size = 300, window=5, min_count = 2, workers = -1)\n",
        "google_model.build_vocab(corpus)\n",
        "\n",
        "#model.intersect_word2vec_format('./word2vec/GoogleNews-vectors-negative300.bin', lockf=1.0, binary=True)\n",
        "\n",
        "google_model.intersect_word2vec_format(EMBEDDING_FILE, lockf=1.0, binary=True)\n",
        "\n",
        "google_model.train(corpus, total_examples=google_model.corpus_count, epochs = 5)"
      ],
      "metadata": {
        "colab": {
          "base_uri": "https://localhost:8080/"
        },
        "id": "Fp65bEOEx822",
        "outputId": "d9c295ea-0048-4b59-b9e0-a5a691d9fce6"
      },
      "execution_count": null,
      "outputs": [
        {
          "output_type": "execute_result",
          "data": {
            "text/plain": [
              "(0, 0)"
            ]
          },
          "metadata": {},
          "execution_count": 12
        }
      ]
    },
    {
      "cell_type": "code",
      "source": [
        "import pickle\n",
        "with open('/content/drive/MyDrive/BfinalLHL/googlemodel.pickle', 'wb') as f:\n",
        "    pickle.dump(google_model, f)\n"
      ],
      "metadata": {
        "id": "9JJs0MKCHVim"
      },
      "execution_count": null,
      "outputs": []
    },
    {
      "cell_type": "code",
      "source": [
        "del google_model"
      ],
      "metadata": {
        "id": "WRoNaotUIfWZ"
      },
      "execution_count": null,
      "outputs": []
    },
    {
      "cell_type": "code",
      "source": [
        "import pickle\n",
        "with open('/content/drive/MyDrive/BfinalLHL/googlemodel.pickle','rb') as f:\n",
        "    g_model = pickle.load(f)"
      ],
      "metadata": {
        "id": "W32LFSA-IkZ-"
      },
      "execution_count": null,
      "outputs": []
    },
    {
      "cell_type": "code",
      "source": [
        "g_model"
      ],
      "metadata": {
        "id": "bHzVFlj3I3fE",
        "outputId": "83cc59c7-ae4c-4e18-803e-35e3a227642b",
        "colab": {
          "base_uri": "https://localhost:8080/"
        }
      },
      "execution_count": null,
      "outputs": [
        {
          "output_type": "execute_result",
          "data": {
            "text/plain": [
              "<gensim.models.word2vec.Word2Vec at 0x7f8ce626cb50>"
            ]
          },
          "metadata": {},
          "execution_count": 16
        }
      ]
    },
    {
      "cell_type": "markdown",
      "source": [
        "Created a function called vectors for generating average Word2Vec embeddings and stored the same as a list called ‘word_embeddings’. The code follows the steps which I have written in the above-average word2vec explanation."
      ],
      "metadata": {
        "id": "cJgOcqdr746K"
      }
    },
    {
      "cell_type": "code",
      "source": [
        ""
      ],
      "metadata": {
        "id": "KOnCoHviHUm9"
      },
      "execution_count": null,
      "outputs": []
    },
    {
      "cell_type": "code",
      "source": [
        "# Generate the average word2vec for the each paper abstract\n",
        "\n",
        "def vectors(x):\n",
        "    \n",
        "    # Creating a list for storing the vectors (description into vectors)\n",
        "    global word_embeddings\n",
        "    word_embeddings = []\n",
        "\n",
        "    # Reading the each book description \n",
        "    for line in x:\n",
        "        avgword2vec = None\n",
        "        count = 0\n",
        "        for word in line.split():\n",
        "            if word in g_model.wv.vocab:\n",
        "                count += 1\n",
        "                if avgword2vec is None:\n",
        "                    avgword2vec = g_model[word]\n",
        "                else:\n",
        "                    avgword2vec = avgword2vec + g_model[word]\n",
        "                \n",
        "        if avgword2vec is not None:\n",
        "            avgword2vec = avgword2vec / count\n",
        "        \n",
        "            word_embeddings.append(avgword2vec)\n"
      ],
      "metadata": {
        "id": "8QphxBbN8C7F"
      },
      "execution_count": null,
      "outputs": []
    },
    {
      "cell_type": "markdown",
      "source": [
        "# Recommending the Top 5 similar papers based on title (using word2vec embeding)\n"
      ],
      "metadata": {
        "id": "h3QKzhuk8Tx5"
      }
    },
    {
      "cell_type": "code",
      "source": [
        "def make_clickable(val):\n",
        "    # target _blank to open new window\n",
        "    return '<a target=\"_blank\" href=\"{}\">{}</a>'.format(val, val)"
      ],
      "metadata": {
        "id": "2Ttiv-j__PdY"
      },
      "execution_count": null,
      "outputs": []
    },
    {
      "cell_type": "code",
      "source": [
        "# Recommending the Top 5 similar papers\n",
        "import html\n",
        "from IPython.display import HTML\n",
        "def recommendations0(title):\n",
        "    \n",
        "    # Calling the function vectors\n",
        "\n",
        "    #vectors(DF['clean_abs'])\n",
        "    \n",
        "    # finding cosine similarity for the vectors\n",
        "    indices = pd.Series(DF2.index, index = DF2['title']).drop_duplicates()\n",
        "         \n",
        "    idx = indices[title]\n",
        "    cosine_similarities = cosine_similarity(word_embeddings, word_embeddings)\n",
        "    print(cosine_similarities.shape)\n",
        "    # taking the title and ppr link and store in new data frame called pprs\n",
        "    pprs = DF2[['title', 'url','publish_time']]\n",
        "    #Reverse mapping of the index\n",
        "\n",
        "    sim_scores = list(enumerate(cosine_similarities[idx]))\n",
        "    sim_scores = sorted(sim_scores, key = lambda x: x[1], reverse = True)\n",
        "    sim_scores = sim_scores[1:6]\n",
        "    book_indices = [i[0] for i in sim_scores]\n",
        "    recommend = pprs.iloc[book_indices]\n",
        "    \n",
        "    recommend.style.format({'url': make_clickable})\n",
        "    #HTML(recommend.to_html(render_links=True, escape=False))\n",
        "    return(recommend.sort_values(by='publish_time'))"
      ],
      "metadata": {
        "id": "AblD55Vr9GuI"
      },
      "execution_count": null,
      "outputs": []
    },
    {
      "cell_type": "code",
      "source": [
        "vectors(DF2['clean_abs'])"
      ],
      "metadata": {
        "colab": {
          "base_uri": "https://localhost:8080/"
        },
        "id": "SjwOisaHEHwA",
        "outputId": "9ea17be0-d043-4d45-ae84-c6146f4822f4"
      },
      "execution_count": null,
      "outputs": [
        {
          "output_type": "stream",
          "name": "stderr",
          "text": [
            "/usr/local/lib/python3.7/dist-packages/ipykernel_launcher.py:17: DeprecationWarning: Call to deprecated `__getitem__` (Method will be removed in 4.0.0, use self.wv.__getitem__() instead).\n",
            "/usr/local/lib/python3.7/dist-packages/ipykernel_launcher.py:19: DeprecationWarning: Call to deprecated `__getitem__` (Method will be removed in 4.0.0, use self.wv.__getitem__() instead).\n"
          ]
        }
      ]
    },
    {
      "cell_type": "code",
      "source": [
        "word_embeddings[0].size"
      ],
      "metadata": {
        "colab": {
          "base_uri": "https://localhost:8080/"
        },
        "id": "xOoLVdKBAiLH",
        "outputId": "c83cbd0c-aff0-452e-c227-3675aaa23815"
      },
      "execution_count": null,
      "outputs": [
        {
          "output_type": "execute_result",
          "data": {
            "text/plain": [
              "300"
            ]
          },
          "metadata": {},
          "execution_count": 20
        }
      ]
    },
    {
      "cell_type": "code",
      "source": [
        "\n",
        "\n",
        "recommendations0(DF2['title'].iloc[1000])\n"
      ],
      "metadata": {
        "id": "8kWwclC-_BFC",
        "colab": {
          "base_uri": "https://localhost:8080/",
          "height": 223
        },
        "outputId": "81f3f2a1-fe6e-4d29-c514-ef32ab11ac42"
      },
      "execution_count": null,
      "outputs": [
        {
          "output_type": "stream",
          "name": "stdout",
          "text": [
            "(30000, 30000)\n"
          ]
        },
        {
          "output_type": "execute_result",
          "data": {
            "text/plain": [
              "                                                   title  \\\n",
              "990    Immunological disturbances associated with mal...   \n",
              "18671  The Black Box of Nordic Education Held Against...   \n",
              "18017  Agitation, confusion, and aggression in critic...   \n",
              "22929  Mental health service use and its associated f...   \n",
              "10600  The psychological impact and experience of bre...   \n",
              "\n",
              "                                                     url publish_time  \n",
              "990    https://www.ncbi.nlm.nih.gov/pmc/articles/PMC3...   2012-09-27  \n",
              "18671  https://www.ncbi.nlm.nih.gov/pmc/articles/PMC7...   2020-10-08  \n",
              "18017  https://www.ncbi.nlm.nih.gov/pmc/articles/PMC7...   2020-12-11  \n",
              "22929  https://www.ncbi.nlm.nih.gov/pmc/articles/PMC8...   2021-04-05  \n",
              "10600  https://www.ncbi.nlm.nih.gov/pmc/articles/PMC8...   2021-05-08  "
            ],
            "text/html": [
              "\n",
              "  <div id=\"df-9f05572e-af94-43bb-b88b-e23265286382\">\n",
              "    <div class=\"colab-df-container\">\n",
              "      <div>\n",
              "<style scoped>\n",
              "    .dataframe tbody tr th:only-of-type {\n",
              "        vertical-align: middle;\n",
              "    }\n",
              "\n",
              "    .dataframe tbody tr th {\n",
              "        vertical-align: top;\n",
              "    }\n",
              "\n",
              "    .dataframe thead th {\n",
              "        text-align: right;\n",
              "    }\n",
              "</style>\n",
              "<table border=\"1\" class=\"dataframe\">\n",
              "  <thead>\n",
              "    <tr style=\"text-align: right;\">\n",
              "      <th></th>\n",
              "      <th>title</th>\n",
              "      <th>url</th>\n",
              "      <th>publish_time</th>\n",
              "    </tr>\n",
              "  </thead>\n",
              "  <tbody>\n",
              "    <tr>\n",
              "      <th>990</th>\n",
              "      <td>Immunological disturbances associated with mal...</td>\n",
              "      <td>https://www.ncbi.nlm.nih.gov/pmc/articles/PMC3...</td>\n",
              "      <td>2012-09-27</td>\n",
              "    </tr>\n",
              "    <tr>\n",
              "      <th>18671</th>\n",
              "      <td>The Black Box of Nordic Education Held Against...</td>\n",
              "      <td>https://www.ncbi.nlm.nih.gov/pmc/articles/PMC7...</td>\n",
              "      <td>2020-10-08</td>\n",
              "    </tr>\n",
              "    <tr>\n",
              "      <th>18017</th>\n",
              "      <td>Agitation, confusion, and aggression in critic...</td>\n",
              "      <td>https://www.ncbi.nlm.nih.gov/pmc/articles/PMC7...</td>\n",
              "      <td>2020-12-11</td>\n",
              "    </tr>\n",
              "    <tr>\n",
              "      <th>22929</th>\n",
              "      <td>Mental health service use and its associated f...</td>\n",
              "      <td>https://www.ncbi.nlm.nih.gov/pmc/articles/PMC8...</td>\n",
              "      <td>2021-04-05</td>\n",
              "    </tr>\n",
              "    <tr>\n",
              "      <th>10600</th>\n",
              "      <td>The psychological impact and experience of bre...</td>\n",
              "      <td>https://www.ncbi.nlm.nih.gov/pmc/articles/PMC8...</td>\n",
              "      <td>2021-05-08</td>\n",
              "    </tr>\n",
              "  </tbody>\n",
              "</table>\n",
              "</div>\n",
              "      <button class=\"colab-df-convert\" onclick=\"convertToInteractive('df-9f05572e-af94-43bb-b88b-e23265286382')\"\n",
              "              title=\"Convert this dataframe to an interactive table.\"\n",
              "              style=\"display:none;\">\n",
              "        \n",
              "  <svg xmlns=\"http://www.w3.org/2000/svg\" height=\"24px\"viewBox=\"0 0 24 24\"\n",
              "       width=\"24px\">\n",
              "    <path d=\"M0 0h24v24H0V0z\" fill=\"none\"/>\n",
              "    <path d=\"M18.56 5.44l.94 2.06.94-2.06 2.06-.94-2.06-.94-.94-2.06-.94 2.06-2.06.94zm-11 1L8.5 8.5l.94-2.06 2.06-.94-2.06-.94L8.5 2.5l-.94 2.06-2.06.94zm10 10l.94 2.06.94-2.06 2.06-.94-2.06-.94-.94-2.06-.94 2.06-2.06.94z\"/><path d=\"M17.41 7.96l-1.37-1.37c-.4-.4-.92-.59-1.43-.59-.52 0-1.04.2-1.43.59L10.3 9.45l-7.72 7.72c-.78.78-.78 2.05 0 2.83L4 21.41c.39.39.9.59 1.41.59.51 0 1.02-.2 1.41-.59l7.78-7.78 2.81-2.81c.8-.78.8-2.07 0-2.86zM5.41 20L4 18.59l7.72-7.72 1.47 1.35L5.41 20z\"/>\n",
              "  </svg>\n",
              "      </button>\n",
              "      \n",
              "  <style>\n",
              "    .colab-df-container {\n",
              "      display:flex;\n",
              "      flex-wrap:wrap;\n",
              "      gap: 12px;\n",
              "    }\n",
              "\n",
              "    .colab-df-convert {\n",
              "      background-color: #E8F0FE;\n",
              "      border: none;\n",
              "      border-radius: 50%;\n",
              "      cursor: pointer;\n",
              "      display: none;\n",
              "      fill: #1967D2;\n",
              "      height: 32px;\n",
              "      padding: 0 0 0 0;\n",
              "      width: 32px;\n",
              "    }\n",
              "\n",
              "    .colab-df-convert:hover {\n",
              "      background-color: #E2EBFA;\n",
              "      box-shadow: 0px 1px 2px rgba(60, 64, 67, 0.3), 0px 1px 3px 1px rgba(60, 64, 67, 0.15);\n",
              "      fill: #174EA6;\n",
              "    }\n",
              "\n",
              "    [theme=dark] .colab-df-convert {\n",
              "      background-color: #3B4455;\n",
              "      fill: #D2E3FC;\n",
              "    }\n",
              "\n",
              "    [theme=dark] .colab-df-convert:hover {\n",
              "      background-color: #434B5C;\n",
              "      box-shadow: 0px 1px 3px 1px rgba(0, 0, 0, 0.15);\n",
              "      filter: drop-shadow(0px 1px 2px rgba(0, 0, 0, 0.3));\n",
              "      fill: #FFFFFF;\n",
              "    }\n",
              "  </style>\n",
              "\n",
              "      <script>\n",
              "        const buttonEl =\n",
              "          document.querySelector('#df-9f05572e-af94-43bb-b88b-e23265286382 button.colab-df-convert');\n",
              "        buttonEl.style.display =\n",
              "          google.colab.kernel.accessAllowed ? 'block' : 'none';\n",
              "\n",
              "        async function convertToInteractive(key) {\n",
              "          const element = document.querySelector('#df-9f05572e-af94-43bb-b88b-e23265286382');\n",
              "          const dataTable =\n",
              "            await google.colab.kernel.invokeFunction('convertToInteractive',\n",
              "                                                     [key], {});\n",
              "          if (!dataTable) return;\n",
              "\n",
              "          const docLinkHtml = 'Like what you see? Visit the ' +\n",
              "            '<a target=\"_blank\" href=https://colab.research.google.com/notebooks/data_table.ipynb>data table notebook</a>'\n",
              "            + ' to learn more about interactive tables.';\n",
              "          element.innerHTML = '';\n",
              "          dataTable['output_type'] = 'display_data';\n",
              "          await google.colab.output.renderOutput(dataTable, element);\n",
              "          const docLink = document.createElement('div');\n",
              "          docLink.innerHTML = docLinkHtml;\n",
              "          element.appendChild(docLink);\n",
              "        }\n",
              "      </script>\n",
              "    </div>\n",
              "  </div>\n",
              "  "
            ]
          },
          "metadata": {},
          "execution_count": 81
        }
      ]
    },
    {
      "cell_type": "code",
      "source": [
        "recommendations(DF2['title'].iloc[1000])"
      ],
      "metadata": {
        "colab": {
          "base_uri": "https://localhost:8080/",
          "height": 265
        },
        "id": "ygPg3wvSKsfv",
        "outputId": "0ded4190-2717-4424-cb07-ed3cc7aef8de"
      },
      "execution_count": null,
      "outputs": [
        {
          "output_type": "execute_result",
          "data": {
            "text/plain": [
              "                                                   title  \\\n",
              "144    Apoptotic signals induce specific degradation ...   \n",
              "26700  SHIP deficiency causes Crohn's disease-like il...   \n",
              "1562   A co-culture genome-wide RNAi screen with mamm...   \n",
              "22722  Taro Lectin Can Act as a Cytokine-Mimetic Comp...   \n",
              "9842   Mutant glucocorticoid receptor binding element...   \n",
              "\n",
              "                                                     url publish_time  \n",
              "144    https://www.ncbi.nlm.nih.gov/pmc/articles/PMC2...   2008-04-01  \n",
              "26700  https://doi.org/10.1136/gut.2009.202283; https...   2010-10-12  \n",
              "1562   https://www.ncbi.nlm.nih.gov/pmc/articles/PMC4...   2015-01-09  \n",
              "22722  https://www.ncbi.nlm.nih.gov/pmc/articles/PMC8...   2021-03-07  \n",
              "9842   https://www.ncbi.nlm.nih.gov/pmc/articles/PMC7...   2021-03-26  "
            ],
            "text/html": [
              "\n",
              "  <div id=\"df-e20c745b-5460-468c-8759-fcca5046b6bb\">\n",
              "    <div class=\"colab-df-container\">\n",
              "      <div>\n",
              "<style scoped>\n",
              "    .dataframe tbody tr th:only-of-type {\n",
              "        vertical-align: middle;\n",
              "    }\n",
              "\n",
              "    .dataframe tbody tr th {\n",
              "        vertical-align: top;\n",
              "    }\n",
              "\n",
              "    .dataframe thead th {\n",
              "        text-align: right;\n",
              "    }\n",
              "</style>\n",
              "<table border=\"1\" class=\"dataframe\">\n",
              "  <thead>\n",
              "    <tr style=\"text-align: right;\">\n",
              "      <th></th>\n",
              "      <th>title</th>\n",
              "      <th>url</th>\n",
              "      <th>publish_time</th>\n",
              "    </tr>\n",
              "  </thead>\n",
              "  <tbody>\n",
              "    <tr>\n",
              "      <th>144</th>\n",
              "      <td>Apoptotic signals induce specific degradation ...</td>\n",
              "      <td>https://www.ncbi.nlm.nih.gov/pmc/articles/PMC2...</td>\n",
              "      <td>2008-04-01</td>\n",
              "    </tr>\n",
              "    <tr>\n",
              "      <th>26700</th>\n",
              "      <td>SHIP deficiency causes Crohn's disease-like il...</td>\n",
              "      <td>https://doi.org/10.1136/gut.2009.202283; https...</td>\n",
              "      <td>2010-10-12</td>\n",
              "    </tr>\n",
              "    <tr>\n",
              "      <th>1562</th>\n",
              "      <td>A co-culture genome-wide RNAi screen with mamm...</td>\n",
              "      <td>https://www.ncbi.nlm.nih.gov/pmc/articles/PMC4...</td>\n",
              "      <td>2015-01-09</td>\n",
              "    </tr>\n",
              "    <tr>\n",
              "      <th>22722</th>\n",
              "      <td>Taro Lectin Can Act as a Cytokine-Mimetic Comp...</td>\n",
              "      <td>https://www.ncbi.nlm.nih.gov/pmc/articles/PMC8...</td>\n",
              "      <td>2021-03-07</td>\n",
              "    </tr>\n",
              "    <tr>\n",
              "      <th>9842</th>\n",
              "      <td>Mutant glucocorticoid receptor binding element...</td>\n",
              "      <td>https://www.ncbi.nlm.nih.gov/pmc/articles/PMC7...</td>\n",
              "      <td>2021-03-26</td>\n",
              "    </tr>\n",
              "  </tbody>\n",
              "</table>\n",
              "</div>\n",
              "      <button class=\"colab-df-convert\" onclick=\"convertToInteractive('df-e20c745b-5460-468c-8759-fcca5046b6bb')\"\n",
              "              title=\"Convert this dataframe to an interactive table.\"\n",
              "              style=\"display:none;\">\n",
              "        \n",
              "  <svg xmlns=\"http://www.w3.org/2000/svg\" height=\"24px\"viewBox=\"0 0 24 24\"\n",
              "       width=\"24px\">\n",
              "    <path d=\"M0 0h24v24H0V0z\" fill=\"none\"/>\n",
              "    <path d=\"M18.56 5.44l.94 2.06.94-2.06 2.06-.94-2.06-.94-.94-2.06-.94 2.06-2.06.94zm-11 1L8.5 8.5l.94-2.06 2.06-.94-2.06-.94L8.5 2.5l-.94 2.06-2.06.94zm10 10l.94 2.06.94-2.06 2.06-.94-2.06-.94-.94-2.06-.94 2.06-2.06.94z\"/><path d=\"M17.41 7.96l-1.37-1.37c-.4-.4-.92-.59-1.43-.59-.52 0-1.04.2-1.43.59L10.3 9.45l-7.72 7.72c-.78.78-.78 2.05 0 2.83L4 21.41c.39.39.9.59 1.41.59.51 0 1.02-.2 1.41-.59l7.78-7.78 2.81-2.81c.8-.78.8-2.07 0-2.86zM5.41 20L4 18.59l7.72-7.72 1.47 1.35L5.41 20z\"/>\n",
              "  </svg>\n",
              "      </button>\n",
              "      \n",
              "  <style>\n",
              "    .colab-df-container {\n",
              "      display:flex;\n",
              "      flex-wrap:wrap;\n",
              "      gap: 12px;\n",
              "    }\n",
              "\n",
              "    .colab-df-convert {\n",
              "      background-color: #E8F0FE;\n",
              "      border: none;\n",
              "      border-radius: 50%;\n",
              "      cursor: pointer;\n",
              "      display: none;\n",
              "      fill: #1967D2;\n",
              "      height: 32px;\n",
              "      padding: 0 0 0 0;\n",
              "      width: 32px;\n",
              "    }\n",
              "\n",
              "    .colab-df-convert:hover {\n",
              "      background-color: #E2EBFA;\n",
              "      box-shadow: 0px 1px 2px rgba(60, 64, 67, 0.3), 0px 1px 3px 1px rgba(60, 64, 67, 0.15);\n",
              "      fill: #174EA6;\n",
              "    }\n",
              "\n",
              "    [theme=dark] .colab-df-convert {\n",
              "      background-color: #3B4455;\n",
              "      fill: #D2E3FC;\n",
              "    }\n",
              "\n",
              "    [theme=dark] .colab-df-convert:hover {\n",
              "      background-color: #434B5C;\n",
              "      box-shadow: 0px 1px 3px 1px rgba(0, 0, 0, 0.15);\n",
              "      filter: drop-shadow(0px 1px 2px rgba(0, 0, 0, 0.3));\n",
              "      fill: #FFFFFF;\n",
              "    }\n",
              "  </style>\n",
              "\n",
              "      <script>\n",
              "        const buttonEl =\n",
              "          document.querySelector('#df-e20c745b-5460-468c-8759-fcca5046b6bb button.colab-df-convert');\n",
              "        buttonEl.style.display =\n",
              "          google.colab.kernel.accessAllowed ? 'block' : 'none';\n",
              "\n",
              "        async function convertToInteractive(key) {\n",
              "          const element = document.querySelector('#df-e20c745b-5460-468c-8759-fcca5046b6bb');\n",
              "          const dataTable =\n",
              "            await google.colab.kernel.invokeFunction('convertToInteractive',\n",
              "                                                     [key], {});\n",
              "          if (!dataTable) return;\n",
              "\n",
              "          const docLinkHtml = 'Like what you see? Visit the ' +\n",
              "            '<a target=\"_blank\" href=https://colab.research.google.com/notebooks/data_table.ipynb>data table notebook</a>'\n",
              "            + ' to learn more about interactive tables.';\n",
              "          element.innerHTML = '';\n",
              "          dataTable['output_type'] = 'display_data';\n",
              "          await google.colab.output.renderOutput(dataTable, element);\n",
              "          const docLink = document.createElement('div');\n",
              "          docLink.innerHTML = docLinkHtml;\n",
              "          element.appendChild(docLink);\n",
              "        }\n",
              "      </script>\n",
              "    </div>\n",
              "  </div>\n",
              "  "
            ]
          },
          "metadata": {},
          "execution_count": 74
        }
      ]
    },
    {
      "cell_type": "code",
      "source": [
        "DF2['title'].iloc[1000]"
      ],
      "metadata": {
        "colab": {
          "base_uri": "https://localhost:8080/",
          "height": 35
        },
        "id": "tsGO4RXvK6s-",
        "outputId": "d7a6e0b7-d618-4787-ab53-1a6f6892e5aa"
      },
      "execution_count": null,
      "outputs": [
        {
          "output_type": "execute_result",
          "data": {
            "text/plain": [
              "'Infiltration of Proinflammatory M1 Macrophages into the Outer Retina Precedes Damage in a Mouse Model of Age-Related Macular Degeneration'"
            ],
            "application/vnd.google.colaboratory.intrinsic+json": {
              "type": "string"
            }
          },
          "metadata": {},
          "execution_count": 72
        }
      ]
    },
    {
      "cell_type": "code",
      "source": [
        "DF2.columns"
      ],
      "metadata": {
        "colab": {
          "base_uri": "https://localhost:8080/"
        },
        "id": "G--DNSQZ_x1D",
        "outputId": "7848655a-1270-4194-d0b2-b96f2137ac3a"
      },
      "execution_count": null,
      "outputs": [
        {
          "output_type": "execute_result",
          "data": {
            "text/plain": [
              "Index(['Unnamed: 0', 'Unnamed: 0.1', 'cord_uid', 'sha', 'source_x', 'title',\n",
              "       'doi', 'pmcid', 'pubmed_id', 'license', 'abstract', 'publish_time',\n",
              "       'authors', 'journal', 'mag_id', 'who_covidence_id', 'arxiv_id',\n",
              "       'pdf_json_files', 'pmc_json_files', 'url', 's2_id', 'language',\n",
              "       'pub_year', 'month', 'y-m', 'clean_abs'],\n",
              "      dtype='object')"
            ]
          },
          "metadata": {},
          "execution_count": 23
        }
      ]
    },
    {
      "cell_type": "code",
      "source": [
        "import pickle\n",
        "with open('/content/drive/MyDrive/BfinalLHL/pipeline_LDA20.pickle','rb') as f:   #loading clean abstract topic modeling\n",
        "    piplinelda20 = pickle.load(f)"
      ],
      "metadata": {
        "id": "w148cfTgGjv3"
      },
      "execution_count": null,
      "outputs": []
    },
    {
      "cell_type": "markdown",
      "source": [
        ""
      ],
      "metadata": {
        "id": "k1AcbdA3T6l8"
      }
    },
    {
      "cell_type": "code",
      "source": [
        "# Recommending the Top 5 similar papers\n",
        "\n",
        "def recommendations(title):\n",
        "    \n",
        "    # Calling the function vectors\n",
        "\n",
        "    #vectors(DF['clean_abs'])\n",
        "    \n",
        "    # finding cosine similarity for the vectors\n",
        "    indices = pd.Series(DF2.index, index = DF2['title']).drop_duplicates()\n",
        "         \n",
        "    idx = indices[title]\n",
        "    cosine_similarities = cosine_similarity(DF2.iloc[:,28:49], DF2.iloc[:,28:49])\n",
        "\n",
        "    # taking the title and ppr link and store in new data frame called pprs\n",
        "    pprs = DF2[['title', 'url','publish_time']]\n",
        "    #Reverse mapping of the index\n",
        "\n",
        "    sim_scores = list(enumerate(cosine_similarities[idx]))\n",
        "    sim_scores = sorted(sim_scores, key = lambda x: x[1], reverse = True)\n",
        "    sim_scores = sim_scores[1:6]\n",
        "    book_indices = [i[0] for i in sim_scores]\n",
        "    recommend = pprs.iloc[book_indices]\n",
        "    \n",
        "    recommend.style.format({'url': make_clickable})\n",
        "    #HTML(recommend.to_html(render_links=True, escape=False))\n",
        "    return(recommend.sort_values(by='publish_time'))\n"
      ],
      "metadata": {
        "id": "2YXsZh8rCtGq"
      },
      "execution_count": null,
      "outputs": []
    },
    {
      "cell_type": "code",
      "source": [
        "len(word_embeddings)"
      ],
      "metadata": {
        "colab": {
          "base_uri": "https://localhost:8080/"
        },
        "id": "LeP2u1J6RYXq",
        "outputId": "e670df76-a1c8-4e3b-f479-6092eafffee3"
      },
      "execution_count": null,
      "outputs": [
        {
          "output_type": "execute_result",
          "data": {
            "text/plain": [
              "30000"
            ]
          },
          "metadata": {},
          "execution_count": 28
        }
      ]
    },
    {
      "cell_type": "code",
      "source": [
        "DF2=DF2.reset_index()\n",
        "DF2"
      ],
      "metadata": {
        "colab": {
          "base_uri": "https://localhost:8080/",
          "height": 974
        },
        "id": "KVesaYabXrRu",
        "outputId": "0e73187b-aefa-486c-fb98-02dd2ba10e25"
      },
      "execution_count": null,
      "outputs": [
        {
          "output_type": "execute_result",
          "data": {
            "text/plain": [
              "      index  Unnamed: 0  Unnamed: 0.1  Unnamed: 0.1.1  cord_uid  \\\n",
              "0      3888        3888          3888            4249  f9tg6xsg   \n",
              "1      3889        3889          3889            4250  f73c639r   \n",
              "2      3890        3890          3890            4251  1qgpa45q   \n",
              "3      3891        3891          3891            4252  g34f5w6b   \n",
              "4      3892        3892          3892            4253  d1pd09zj   \n",
              "...     ...         ...           ...             ...       ...   \n",
              "9995  18177       18177         18177           40065  i2b6prxu   \n",
              "9996  18178       18178         18178           40066  t6ww61va   \n",
              "9997  18179       18179         18179           40067  jz1g2ima   \n",
              "9998  18180       18180         18180           40068  kzo7ez30   \n",
              "9999  18181       18181         18181           40077  xkt8gd9p   \n",
              "\n",
              "                                                    sha source_x  \\\n",
              "0              44449ad1cca160ce491d7624f8ae1028f3570c45      PMC   \n",
              "1              def41c08c3cb1b3752bcff34d3aed7f8486e1c86      PMC   \n",
              "2              f5ae3f66face323615df39d838e056ab5fcc98df      PMC   \n",
              "3              5be75ae4e7f8c892abd8dc396b9dbd035772c84a      PMC   \n",
              "4              1cee4a0d0e823379ec34a462a04561bf4cd736a2      PMC   \n",
              "...                                                 ...      ...   \n",
              "9995           9211f31eb7553fe5f6b333ab61236ba2f503d140      PMC   \n",
              "9996           b597598d727a63d0843f7247c1b36a067cf260e6      PMC   \n",
              "9997           7ef05fc08b85f25ce621d117a08db2c6c46b7222      PMC   \n",
              "9998  a48ca7314512bc4c6888cafb760488653102a15d; f3df...      PMC   \n",
              "9999           b601131a1c7c887bb1b0ffe046b4cb7fa13fe1a9      PMC   \n",
              "\n",
              "                                                  title  \\\n",
              "0     Dexmedetomidine improved renal function in pat...   \n",
              "1     Aortic volume determines global end-diastolic ...   \n",
              "2     Whole genome sequencing and phylogenetic analy...   \n",
              "3     European intensive care physicians’ experience...   \n",
              "4     Synthetic carbohydrate-based vaccines: challen...   \n",
              "...                                                 ...   \n",
              "9995  Suicidality in Patients with Brain Tumors: A B...   \n",
              "9996  The Antimalarial Compound Atovaquone Inhibits ...   \n",
              "9997  Computational Analysis of African Swine Fever ...   \n",
              "9998  Safety and Efficacy of Intermittent High-Dose ...   \n",
              "9999  Accurate Detection and Evaluation of the Gene-...   \n",
              "\n",
              "                            doi       pmcid  ...        10        11  \\\n",
              "0     10.1186/s40560-019-0415-z  PMC6939335  ...  0.000158  0.043423   \n",
              "1     10.1186/s40635-019-0284-8  PMC6940405  ...  0.000254  0.005704   \n",
              "2     10.1186/s12864-019-6400-z  PMC6941262  ...  0.007521  0.033023   \n",
              "3     10.1186/s13756-019-0662-8  PMC6941296  ...  0.000148  0.000148   \n",
              "4     10.1186/s12929-019-0591-0  PMC6941340  ...  0.013325  0.000538   \n",
              "...                         ...         ...  ...       ...       ...   \n",
              "9995   10.3390/medicina56120725  PMC7767493  ...  0.000370  0.142791   \n",
              "9996          10.3390/v12121475  PMC7767512  ...  0.027698  0.029100   \n",
              "9997   10.3390/pathogens9121078  PMC7767518  ...  0.007049  0.000254   \n",
              "9998         10.3390/jof6040385  PMC7767522  ...  0.013608  0.051593   \n",
              "9999   10.3389/fpls.2020.610790  PMC7767858  ...  0.201052  0.000256   \n",
              "\n",
              "            12        13        14        15        16        17        18  \\\n",
              "0     0.000158  0.024204  0.835698  0.000158  0.000158  0.000158  0.000158   \n",
              "1     0.020360  0.037917  0.134629  0.642733  0.046374  0.000254  0.000254   \n",
              "2     0.018648  0.215623  0.040344  0.000269  0.000269  0.000269  0.155301   \n",
              "3     0.020007  0.000148  0.098044  0.000148  0.622550  0.098668  0.000148   \n",
              "4     0.000538  0.012178  0.000538  0.000538  0.585563  0.000538  0.000538   \n",
              "...        ...       ...       ...       ...       ...       ...       ...   \n",
              "9995  0.000370  0.191477  0.120325  0.000370  0.000370  0.024253  0.015293   \n",
              "9996  0.023712  0.014647  0.000276  0.000276  0.000276  0.000276  0.163339   \n",
              "9997  0.030731  0.000254  0.000254  0.000254  0.017359  0.006341  0.203933   \n",
              "9998  0.012676  0.081414  0.310122  0.000239  0.320362  0.000239  0.028613   \n",
              "9999  0.000256  0.000256  0.000256  0.190572  0.018620  0.000256  0.037900   \n",
              "\n",
              "            19  \n",
              "0     0.000158  \n",
              "1     0.000254  \n",
              "2     0.000269  \n",
              "3     0.103591  \n",
              "4     0.080902  \n",
              "...        ...  \n",
              "9995  0.000370  \n",
              "9996  0.009061  \n",
              "9997  0.000254  \n",
              "9998  0.000239  \n",
              "9999  0.102179  \n",
              "\n",
              "[10000 rows x 49 columns]"
            ],
            "text/html": [
              "\n",
              "  <div id=\"df-e6b2e131-7f36-495a-ac50-854167daf98f\">\n",
              "    <div class=\"colab-df-container\">\n",
              "      <div>\n",
              "<style scoped>\n",
              "    .dataframe tbody tr th:only-of-type {\n",
              "        vertical-align: middle;\n",
              "    }\n",
              "\n",
              "    .dataframe tbody tr th {\n",
              "        vertical-align: top;\n",
              "    }\n",
              "\n",
              "    .dataframe thead th {\n",
              "        text-align: right;\n",
              "    }\n",
              "</style>\n",
              "<table border=\"1\" class=\"dataframe\">\n",
              "  <thead>\n",
              "    <tr style=\"text-align: right;\">\n",
              "      <th></th>\n",
              "      <th>index</th>\n",
              "      <th>Unnamed: 0</th>\n",
              "      <th>Unnamed: 0.1</th>\n",
              "      <th>Unnamed: 0.1.1</th>\n",
              "      <th>cord_uid</th>\n",
              "      <th>sha</th>\n",
              "      <th>source_x</th>\n",
              "      <th>title</th>\n",
              "      <th>doi</th>\n",
              "      <th>pmcid</th>\n",
              "      <th>...</th>\n",
              "      <th>10</th>\n",
              "      <th>11</th>\n",
              "      <th>12</th>\n",
              "      <th>13</th>\n",
              "      <th>14</th>\n",
              "      <th>15</th>\n",
              "      <th>16</th>\n",
              "      <th>17</th>\n",
              "      <th>18</th>\n",
              "      <th>19</th>\n",
              "    </tr>\n",
              "  </thead>\n",
              "  <tbody>\n",
              "    <tr>\n",
              "      <th>0</th>\n",
              "      <td>3888</td>\n",
              "      <td>3888</td>\n",
              "      <td>3888</td>\n",
              "      <td>4249</td>\n",
              "      <td>f9tg6xsg</td>\n",
              "      <td>44449ad1cca160ce491d7624f8ae1028f3570c45</td>\n",
              "      <td>PMC</td>\n",
              "      <td>Dexmedetomidine improved renal function in pat...</td>\n",
              "      <td>10.1186/s40560-019-0415-z</td>\n",
              "      <td>PMC6939335</td>\n",
              "      <td>...</td>\n",
              "      <td>0.000158</td>\n",
              "      <td>0.043423</td>\n",
              "      <td>0.000158</td>\n",
              "      <td>0.024204</td>\n",
              "      <td>0.835698</td>\n",
              "      <td>0.000158</td>\n",
              "      <td>0.000158</td>\n",
              "      <td>0.000158</td>\n",
              "      <td>0.000158</td>\n",
              "      <td>0.000158</td>\n",
              "    </tr>\n",
              "    <tr>\n",
              "      <th>1</th>\n",
              "      <td>3889</td>\n",
              "      <td>3889</td>\n",
              "      <td>3889</td>\n",
              "      <td>4250</td>\n",
              "      <td>f73c639r</td>\n",
              "      <td>def41c08c3cb1b3752bcff34d3aed7f8486e1c86</td>\n",
              "      <td>PMC</td>\n",
              "      <td>Aortic volume determines global end-diastolic ...</td>\n",
              "      <td>10.1186/s40635-019-0284-8</td>\n",
              "      <td>PMC6940405</td>\n",
              "      <td>...</td>\n",
              "      <td>0.000254</td>\n",
              "      <td>0.005704</td>\n",
              "      <td>0.020360</td>\n",
              "      <td>0.037917</td>\n",
              "      <td>0.134629</td>\n",
              "      <td>0.642733</td>\n",
              "      <td>0.046374</td>\n",
              "      <td>0.000254</td>\n",
              "      <td>0.000254</td>\n",
              "      <td>0.000254</td>\n",
              "    </tr>\n",
              "    <tr>\n",
              "      <th>2</th>\n",
              "      <td>3890</td>\n",
              "      <td>3890</td>\n",
              "      <td>3890</td>\n",
              "      <td>4251</td>\n",
              "      <td>1qgpa45q</td>\n",
              "      <td>f5ae3f66face323615df39d838e056ab5fcc98df</td>\n",
              "      <td>PMC</td>\n",
              "      <td>Whole genome sequencing and phylogenetic analy...</td>\n",
              "      <td>10.1186/s12864-019-6400-z</td>\n",
              "      <td>PMC6941262</td>\n",
              "      <td>...</td>\n",
              "      <td>0.007521</td>\n",
              "      <td>0.033023</td>\n",
              "      <td>0.018648</td>\n",
              "      <td>0.215623</td>\n",
              "      <td>0.040344</td>\n",
              "      <td>0.000269</td>\n",
              "      <td>0.000269</td>\n",
              "      <td>0.000269</td>\n",
              "      <td>0.155301</td>\n",
              "      <td>0.000269</td>\n",
              "    </tr>\n",
              "    <tr>\n",
              "      <th>3</th>\n",
              "      <td>3891</td>\n",
              "      <td>3891</td>\n",
              "      <td>3891</td>\n",
              "      <td>4252</td>\n",
              "      <td>g34f5w6b</td>\n",
              "      <td>5be75ae4e7f8c892abd8dc396b9dbd035772c84a</td>\n",
              "      <td>PMC</td>\n",
              "      <td>European intensive care physicians’ experience...</td>\n",
              "      <td>10.1186/s13756-019-0662-8</td>\n",
              "      <td>PMC6941296</td>\n",
              "      <td>...</td>\n",
              "      <td>0.000148</td>\n",
              "      <td>0.000148</td>\n",
              "      <td>0.020007</td>\n",
              "      <td>0.000148</td>\n",
              "      <td>0.098044</td>\n",
              "      <td>0.000148</td>\n",
              "      <td>0.622550</td>\n",
              "      <td>0.098668</td>\n",
              "      <td>0.000148</td>\n",
              "      <td>0.103591</td>\n",
              "    </tr>\n",
              "    <tr>\n",
              "      <th>4</th>\n",
              "      <td>3892</td>\n",
              "      <td>3892</td>\n",
              "      <td>3892</td>\n",
              "      <td>4253</td>\n",
              "      <td>d1pd09zj</td>\n",
              "      <td>1cee4a0d0e823379ec34a462a04561bf4cd736a2</td>\n",
              "      <td>PMC</td>\n",
              "      <td>Synthetic carbohydrate-based vaccines: challen...</td>\n",
              "      <td>10.1186/s12929-019-0591-0</td>\n",
              "      <td>PMC6941340</td>\n",
              "      <td>...</td>\n",
              "      <td>0.013325</td>\n",
              "      <td>0.000538</td>\n",
              "      <td>0.000538</td>\n",
              "      <td>0.012178</td>\n",
              "      <td>0.000538</td>\n",
              "      <td>0.000538</td>\n",
              "      <td>0.585563</td>\n",
              "      <td>0.000538</td>\n",
              "      <td>0.000538</td>\n",
              "      <td>0.080902</td>\n",
              "    </tr>\n",
              "    <tr>\n",
              "      <th>...</th>\n",
              "      <td>...</td>\n",
              "      <td>...</td>\n",
              "      <td>...</td>\n",
              "      <td>...</td>\n",
              "      <td>...</td>\n",
              "      <td>...</td>\n",
              "      <td>...</td>\n",
              "      <td>...</td>\n",
              "      <td>...</td>\n",
              "      <td>...</td>\n",
              "      <td>...</td>\n",
              "      <td>...</td>\n",
              "      <td>...</td>\n",
              "      <td>...</td>\n",
              "      <td>...</td>\n",
              "      <td>...</td>\n",
              "      <td>...</td>\n",
              "      <td>...</td>\n",
              "      <td>...</td>\n",
              "      <td>...</td>\n",
              "      <td>...</td>\n",
              "    </tr>\n",
              "    <tr>\n",
              "      <th>9995</th>\n",
              "      <td>18177</td>\n",
              "      <td>18177</td>\n",
              "      <td>18177</td>\n",
              "      <td>40065</td>\n",
              "      <td>i2b6prxu</td>\n",
              "      <td>9211f31eb7553fe5f6b333ab61236ba2f503d140</td>\n",
              "      <td>PMC</td>\n",
              "      <td>Suicidality in Patients with Brain Tumors: A B...</td>\n",
              "      <td>10.3390/medicina56120725</td>\n",
              "      <td>PMC7767493</td>\n",
              "      <td>...</td>\n",
              "      <td>0.000370</td>\n",
              "      <td>0.142791</td>\n",
              "      <td>0.000370</td>\n",
              "      <td>0.191477</td>\n",
              "      <td>0.120325</td>\n",
              "      <td>0.000370</td>\n",
              "      <td>0.000370</td>\n",
              "      <td>0.024253</td>\n",
              "      <td>0.015293</td>\n",
              "      <td>0.000370</td>\n",
              "    </tr>\n",
              "    <tr>\n",
              "      <th>9996</th>\n",
              "      <td>18178</td>\n",
              "      <td>18178</td>\n",
              "      <td>18178</td>\n",
              "      <td>40066</td>\n",
              "      <td>t6ww61va</td>\n",
              "      <td>b597598d727a63d0843f7247c1b36a067cf260e6</td>\n",
              "      <td>PMC</td>\n",
              "      <td>The Antimalarial Compound Atovaquone Inhibits ...</td>\n",
              "      <td>10.3390/v12121475</td>\n",
              "      <td>PMC7767512</td>\n",
              "      <td>...</td>\n",
              "      <td>0.027698</td>\n",
              "      <td>0.029100</td>\n",
              "      <td>0.023712</td>\n",
              "      <td>0.014647</td>\n",
              "      <td>0.000276</td>\n",
              "      <td>0.000276</td>\n",
              "      <td>0.000276</td>\n",
              "      <td>0.000276</td>\n",
              "      <td>0.163339</td>\n",
              "      <td>0.009061</td>\n",
              "    </tr>\n",
              "    <tr>\n",
              "      <th>9997</th>\n",
              "      <td>18179</td>\n",
              "      <td>18179</td>\n",
              "      <td>18179</td>\n",
              "      <td>40067</td>\n",
              "      <td>jz1g2ima</td>\n",
              "      <td>7ef05fc08b85f25ce621d117a08db2c6c46b7222</td>\n",
              "      <td>PMC</td>\n",
              "      <td>Computational Analysis of African Swine Fever ...</td>\n",
              "      <td>10.3390/pathogens9121078</td>\n",
              "      <td>PMC7767518</td>\n",
              "      <td>...</td>\n",
              "      <td>0.007049</td>\n",
              "      <td>0.000254</td>\n",
              "      <td>0.030731</td>\n",
              "      <td>0.000254</td>\n",
              "      <td>0.000254</td>\n",
              "      <td>0.000254</td>\n",
              "      <td>0.017359</td>\n",
              "      <td>0.006341</td>\n",
              "      <td>0.203933</td>\n",
              "      <td>0.000254</td>\n",
              "    </tr>\n",
              "    <tr>\n",
              "      <th>9998</th>\n",
              "      <td>18180</td>\n",
              "      <td>18180</td>\n",
              "      <td>18180</td>\n",
              "      <td>40068</td>\n",
              "      <td>kzo7ez30</td>\n",
              "      <td>a48ca7314512bc4c6888cafb760488653102a15d; f3df...</td>\n",
              "      <td>PMC</td>\n",
              "      <td>Safety and Efficacy of Intermittent High-Dose ...</td>\n",
              "      <td>10.3390/jof6040385</td>\n",
              "      <td>PMC7767522</td>\n",
              "      <td>...</td>\n",
              "      <td>0.013608</td>\n",
              "      <td>0.051593</td>\n",
              "      <td>0.012676</td>\n",
              "      <td>0.081414</td>\n",
              "      <td>0.310122</td>\n",
              "      <td>0.000239</td>\n",
              "      <td>0.320362</td>\n",
              "      <td>0.000239</td>\n",
              "      <td>0.028613</td>\n",
              "      <td>0.000239</td>\n",
              "    </tr>\n",
              "    <tr>\n",
              "      <th>9999</th>\n",
              "      <td>18181</td>\n",
              "      <td>18181</td>\n",
              "      <td>18181</td>\n",
              "      <td>40077</td>\n",
              "      <td>xkt8gd9p</td>\n",
              "      <td>b601131a1c7c887bb1b0ffe046b4cb7fa13fe1a9</td>\n",
              "      <td>PMC</td>\n",
              "      <td>Accurate Detection and Evaluation of the Gene-...</td>\n",
              "      <td>10.3389/fpls.2020.610790</td>\n",
              "      <td>PMC7767858</td>\n",
              "      <td>...</td>\n",
              "      <td>0.201052</td>\n",
              "      <td>0.000256</td>\n",
              "      <td>0.000256</td>\n",
              "      <td>0.000256</td>\n",
              "      <td>0.000256</td>\n",
              "      <td>0.190572</td>\n",
              "      <td>0.018620</td>\n",
              "      <td>0.000256</td>\n",
              "      <td>0.037900</td>\n",
              "      <td>0.102179</td>\n",
              "    </tr>\n",
              "  </tbody>\n",
              "</table>\n",
              "<p>10000 rows × 49 columns</p>\n",
              "</div>\n",
              "      <button class=\"colab-df-convert\" onclick=\"convertToInteractive('df-e6b2e131-7f36-495a-ac50-854167daf98f')\"\n",
              "              title=\"Convert this dataframe to an interactive table.\"\n",
              "              style=\"display:none;\">\n",
              "        \n",
              "  <svg xmlns=\"http://www.w3.org/2000/svg\" height=\"24px\"viewBox=\"0 0 24 24\"\n",
              "       width=\"24px\">\n",
              "    <path d=\"M0 0h24v24H0V0z\" fill=\"none\"/>\n",
              "    <path d=\"M18.56 5.44l.94 2.06.94-2.06 2.06-.94-2.06-.94-.94-2.06-.94 2.06-2.06.94zm-11 1L8.5 8.5l.94-2.06 2.06-.94-2.06-.94L8.5 2.5l-.94 2.06-2.06.94zm10 10l.94 2.06.94-2.06 2.06-.94-2.06-.94-.94-2.06-.94 2.06-2.06.94z\"/><path d=\"M17.41 7.96l-1.37-1.37c-.4-.4-.92-.59-1.43-.59-.52 0-1.04.2-1.43.59L10.3 9.45l-7.72 7.72c-.78.78-.78 2.05 0 2.83L4 21.41c.39.39.9.59 1.41.59.51 0 1.02-.2 1.41-.59l7.78-7.78 2.81-2.81c.8-.78.8-2.07 0-2.86zM5.41 20L4 18.59l7.72-7.72 1.47 1.35L5.41 20z\"/>\n",
              "  </svg>\n",
              "      </button>\n",
              "      \n",
              "  <style>\n",
              "    .colab-df-container {\n",
              "      display:flex;\n",
              "      flex-wrap:wrap;\n",
              "      gap: 12px;\n",
              "    }\n",
              "\n",
              "    .colab-df-convert {\n",
              "      background-color: #E8F0FE;\n",
              "      border: none;\n",
              "      border-radius: 50%;\n",
              "      cursor: pointer;\n",
              "      display: none;\n",
              "      fill: #1967D2;\n",
              "      height: 32px;\n",
              "      padding: 0 0 0 0;\n",
              "      width: 32px;\n",
              "    }\n",
              "\n",
              "    .colab-df-convert:hover {\n",
              "      background-color: #E2EBFA;\n",
              "      box-shadow: 0px 1px 2px rgba(60, 64, 67, 0.3), 0px 1px 3px 1px rgba(60, 64, 67, 0.15);\n",
              "      fill: #174EA6;\n",
              "    }\n",
              "\n",
              "    [theme=dark] .colab-df-convert {\n",
              "      background-color: #3B4455;\n",
              "      fill: #D2E3FC;\n",
              "    }\n",
              "\n",
              "    [theme=dark] .colab-df-convert:hover {\n",
              "      background-color: #434B5C;\n",
              "      box-shadow: 0px 1px 3px 1px rgba(0, 0, 0, 0.15);\n",
              "      filter: drop-shadow(0px 1px 2px rgba(0, 0, 0, 0.3));\n",
              "      fill: #FFFFFF;\n",
              "    }\n",
              "  </style>\n",
              "\n",
              "      <script>\n",
              "        const buttonEl =\n",
              "          document.querySelector('#df-e6b2e131-7f36-495a-ac50-854167daf98f button.colab-df-convert');\n",
              "        buttonEl.style.display =\n",
              "          google.colab.kernel.accessAllowed ? 'block' : 'none';\n",
              "\n",
              "        async function convertToInteractive(key) {\n",
              "          const element = document.querySelector('#df-e6b2e131-7f36-495a-ac50-854167daf98f');\n",
              "          const dataTable =\n",
              "            await google.colab.kernel.invokeFunction('convertToInteractive',\n",
              "                                                     [key], {});\n",
              "          if (!dataTable) return;\n",
              "\n",
              "          const docLinkHtml = 'Like what you see? Visit the ' +\n",
              "            '<a target=\"_blank\" href=https://colab.research.google.com/notebooks/data_table.ipynb>data table notebook</a>'\n",
              "            + ' to learn more about interactive tables.';\n",
              "          element.innerHTML = '';\n",
              "          dataTable['output_type'] = 'display_data';\n",
              "          await google.colab.output.renderOutput(dataTable, element);\n",
              "          const docLink = document.createElement('div');\n",
              "          docLink.innerHTML = docLinkHtml;\n",
              "          element.appendChild(docLink);\n",
              "        }\n",
              "      </script>\n",
              "    </div>\n",
              "  </div>\n",
              "  "
            ]
          },
          "metadata": {},
          "execution_count": 19
        }
      ]
    },
    {
      "cell_type": "markdown",
      "source": [
        "## Final Recommender engine which uses a combination of similarity scores of word2vec Abstract, LDA parameters of Abstract and tfidf of titles. "
      ],
      "metadata": {
        "id": "Z4uQVx8UfKNY"
      }
    },
    {
      "cell_type": "code",
      "source": [
        "# Recommending the Top 10 similar papers\n",
        "#DF2=Df.iloc[0:10000,:]\n",
        "def Recommendations(title):\n",
        "    \n",
        "    # Calling the function vectors\n",
        "\n",
        "    #vectors(DF['clean_abs'])\n",
        "    \n",
        "    # finding cosine similarity for the vectors\n",
        "    indices = pd.Series(DF2.index, index = DF2['title']).drop_duplicates()\n",
        "         \n",
        "    idx = indices[title]\n",
        "    \n",
        "    # Calculating the similarity measures based on Cosine Similarity\n",
        "    cosine_similarities1 = cosine_similarity(DF2.iloc[:,28:49], DF2.iloc[:,28:49])#LDA Abstract\n",
        "\n",
        "    cosine_similarities0 = cosine_similarity(word_embeddings, word_embeddings)   #word2vec Abstract\n",
        "    #Converting the paper title into vectors and used bigram\n",
        "    tf = TfidfVectorizer(analyzer='word', ngram_range=(3, 3), min_df = 1, stop_words='english')\n",
        "    tfidf_matrix = tf.fit_transform(DF2['title'])\n",
        "    cosine_similarities2 = cosine_similarity(tfidf_matrix, tfidf_matrix)\n",
        "    cosine_similarities=cosine_similarities0+cosine_similarities1+cosine_similarities2*2\n",
        "    # taking the title and ppr link and store in new data frame called pprs\n",
        "    pprs = DF2[['title', 'url','publish_time']]\n",
        "    #Reverse mapping of the index\n",
        "    #print((cosine_similarities0))\n",
        "    #print(cosine_similarities1)\n",
        "    #print(cosine_similarities2)\n",
        "    sim_scores = list(enumerate(cosine_similarities[idx]))\n",
        "    sim_scores = sorted(sim_scores, key = lambda x: x[1], reverse = True)\n",
        "    t=DF2.loc[idx,'abstract']\n",
        "    print(f'Similar Articles to :\\n {title}')#' \\n# Abstract: \\n {t}')\n",
        "    sim_scores = sim_scores[1:11]\n",
        "    pp_indices = [i[0] for i in sim_scores]\n",
        "    recommend = pprs.iloc[pp_indices]\n",
        "    \n",
        "    recommend.style.format({'url': make_clickable})\n",
        "    #HTML(recommend.to_html(render_links=True, escape=False))\n",
        "    return(recommend.sort_values(by='publish_time',ascending=False).reset_index(drop=True))"
      ],
      "metadata": {
        "id": "B6sNe1yCKQSC"
      },
      "execution_count": null,
      "outputs": []
    },
    {
      "cell_type": "code",
      "source": [
        "pd.set_option('display.max_colwidth', None)"
      ],
      "metadata": {
        "id": "BRbYyKSlnFWO"
      },
      "execution_count": null,
      "outputs": []
    },
    {
      "cell_type": "code",
      "source": [
        ""
      ],
      "metadata": {
        "id": "yBke9iWkkEak"
      },
      "execution_count": null,
      "outputs": []
    },
    {
      "cell_type": "code",
      "source": [
        ""
      ],
      "metadata": {
        "id": "ynDvmDLGkEhR"
      },
      "execution_count": null,
      "outputs": []
    },
    {
      "cell_type": "code",
      "source": [
        ""
      ],
      "metadata": {
        "id": "Rik6PDbBkExk"
      },
      "execution_count": null,
      "outputs": []
    },
    {
      "cell_type": "code",
      "source": [
        ""
      ],
      "metadata": {
        "id": "G3enepAbk0Y7"
      },
      "execution_count": null,
      "outputs": []
    },
    {
      "cell_type": "code",
      "source": [
        ""
      ],
      "metadata": {
        "id": "hZ4DDdm4fVow"
      },
      "execution_count": null,
      "outputs": []
    },
    {
      "cell_type": "code",
      "source": [
        ""
      ],
      "metadata": {
        "id": "lZ_jO2hcfVsY"
      },
      "execution_count": null,
      "outputs": []
    },
    {
      "cell_type": "code",
      "source": [
        ""
      ],
      "metadata": {
        "id": "9YIuKKGWfVur"
      },
      "execution_count": null,
      "outputs": []
    },
    {
      "cell_type": "code",
      "source": [
        ""
      ],
      "metadata": {
        "id": "1oHNkjwgfVxA"
      },
      "execution_count": null,
      "outputs": []
    },
    {
      "cell_type": "code",
      "source": [
        ""
      ],
      "metadata": {
        "id": "ZgxsyZyNfVzs"
      },
      "execution_count": null,
      "outputs": []
    },
    {
      "cell_type": "code",
      "source": [
        ""
      ],
      "metadata": {
        "id": "78RrEhTZfV2A"
      },
      "execution_count": null,
      "outputs": []
    },
    {
      "cell_type": "code",
      "source": [
        ""
      ],
      "metadata": {
        "id": "edFcsHLXfXUB"
      },
      "execution_count": null,
      "outputs": []
    },
    {
      "cell_type": "code",
      "source": [
        "#getting the information with doi from the altmetric site."
      ],
      "metadata": {
        "id": "-ITFNa1dfXgd"
      },
      "execution_count": null,
      "outputs": []
    },
    {
      "cell_type": "code",
      "source": [
        "def get_request(doi): \n",
        "    return f\"https://api.altmetric.com/v1/doi/{doi}\"\n",
        "    \n",
        "calls = DF2['doi'].apply(lambda doi: f\"https://api.altmetric.com/v1/doi/{doi}\").to_frame()\n",
        "calls['cord_uid'] = DF2['cord_uid']  \n",
        "calls.to_csv('/content/drive/MyDrive/BfinalLHL/altmetric_calls.csv', index=False)\n",
        "del calls\n"
      ],
      "metadata": {
        "id": "UJ9fPCvUer0i"
      },
      "execution_count": null,
      "outputs": []
    },
    {
      "cell_type": "code",
      "source": [
        "calls=pd.read_csv('/content/drive/MyDrive/BfinalLHL/altmetric_calls.csv')\n",
        "calls"
      ],
      "metadata": {
        "colab": {
          "base_uri": "https://localhost:8080/",
          "height": 424
        },
        "id": "33DSIC1awzBC",
        "outputId": "b997d8b0-32f5-44ae-920e-380642ba7394"
      },
      "execution_count": null,
      "outputs": [
        {
          "output_type": "execute_result",
          "data": {
            "text/plain": [
              "                                                    doi  cord_uid\n",
              "0     https://api.altmetric.com/v1/doi/10.1186/s4056...  f9tg6xsg\n",
              "1     https://api.altmetric.com/v1/doi/10.1186/s4063...  f73c639r\n",
              "2     https://api.altmetric.com/v1/doi/10.1186/s1286...  1qgpa45q\n",
              "3     https://api.altmetric.com/v1/doi/10.1186/s1375...  g34f5w6b\n",
              "4     https://api.altmetric.com/v1/doi/10.1186/s1292...  d1pd09zj\n",
              "...                                                 ...       ...\n",
              "9995  https://api.altmetric.com/v1/doi/10.3390/medic...  i2b6prxu\n",
              "9996  https://api.altmetric.com/v1/doi/10.3390/v1212...  t6ww61va\n",
              "9997  https://api.altmetric.com/v1/doi/10.3390/patho...  jz1g2ima\n",
              "9998  https://api.altmetric.com/v1/doi/10.3390/jof60...  kzo7ez30\n",
              "9999  https://api.altmetric.com/v1/doi/10.3389/fpls....  xkt8gd9p\n",
              "\n",
              "[10000 rows x 2 columns]"
            ],
            "text/html": [
              "\n",
              "  <div id=\"df-4aeef1cc-dc3f-41cc-9d75-6856f2786241\">\n",
              "    <div class=\"colab-df-container\">\n",
              "      <div>\n",
              "<style scoped>\n",
              "    .dataframe tbody tr th:only-of-type {\n",
              "        vertical-align: middle;\n",
              "    }\n",
              "\n",
              "    .dataframe tbody tr th {\n",
              "        vertical-align: top;\n",
              "    }\n",
              "\n",
              "    .dataframe thead th {\n",
              "        text-align: right;\n",
              "    }\n",
              "</style>\n",
              "<table border=\"1\" class=\"dataframe\">\n",
              "  <thead>\n",
              "    <tr style=\"text-align: right;\">\n",
              "      <th></th>\n",
              "      <th>doi</th>\n",
              "      <th>cord_uid</th>\n",
              "    </tr>\n",
              "  </thead>\n",
              "  <tbody>\n",
              "    <tr>\n",
              "      <th>0</th>\n",
              "      <td>https://api.altmetric.com/v1/doi/10.1186/s4056...</td>\n",
              "      <td>f9tg6xsg</td>\n",
              "    </tr>\n",
              "    <tr>\n",
              "      <th>1</th>\n",
              "      <td>https://api.altmetric.com/v1/doi/10.1186/s4063...</td>\n",
              "      <td>f73c639r</td>\n",
              "    </tr>\n",
              "    <tr>\n",
              "      <th>2</th>\n",
              "      <td>https://api.altmetric.com/v1/doi/10.1186/s1286...</td>\n",
              "      <td>1qgpa45q</td>\n",
              "    </tr>\n",
              "    <tr>\n",
              "      <th>3</th>\n",
              "      <td>https://api.altmetric.com/v1/doi/10.1186/s1375...</td>\n",
              "      <td>g34f5w6b</td>\n",
              "    </tr>\n",
              "    <tr>\n",
              "      <th>4</th>\n",
              "      <td>https://api.altmetric.com/v1/doi/10.1186/s1292...</td>\n",
              "      <td>d1pd09zj</td>\n",
              "    </tr>\n",
              "    <tr>\n",
              "      <th>...</th>\n",
              "      <td>...</td>\n",
              "      <td>...</td>\n",
              "    </tr>\n",
              "    <tr>\n",
              "      <th>9995</th>\n",
              "      <td>https://api.altmetric.com/v1/doi/10.3390/medic...</td>\n",
              "      <td>i2b6prxu</td>\n",
              "    </tr>\n",
              "    <tr>\n",
              "      <th>9996</th>\n",
              "      <td>https://api.altmetric.com/v1/doi/10.3390/v1212...</td>\n",
              "      <td>t6ww61va</td>\n",
              "    </tr>\n",
              "    <tr>\n",
              "      <th>9997</th>\n",
              "      <td>https://api.altmetric.com/v1/doi/10.3390/patho...</td>\n",
              "      <td>jz1g2ima</td>\n",
              "    </tr>\n",
              "    <tr>\n",
              "      <th>9998</th>\n",
              "      <td>https://api.altmetric.com/v1/doi/10.3390/jof60...</td>\n",
              "      <td>kzo7ez30</td>\n",
              "    </tr>\n",
              "    <tr>\n",
              "      <th>9999</th>\n",
              "      <td>https://api.altmetric.com/v1/doi/10.3389/fpls....</td>\n",
              "      <td>xkt8gd9p</td>\n",
              "    </tr>\n",
              "  </tbody>\n",
              "</table>\n",
              "<p>10000 rows × 2 columns</p>\n",
              "</div>\n",
              "      <button class=\"colab-df-convert\" onclick=\"convertToInteractive('df-4aeef1cc-dc3f-41cc-9d75-6856f2786241')\"\n",
              "              title=\"Convert this dataframe to an interactive table.\"\n",
              "              style=\"display:none;\">\n",
              "        \n",
              "  <svg xmlns=\"http://www.w3.org/2000/svg\" height=\"24px\"viewBox=\"0 0 24 24\"\n",
              "       width=\"24px\">\n",
              "    <path d=\"M0 0h24v24H0V0z\" fill=\"none\"/>\n",
              "    <path d=\"M18.56 5.44l.94 2.06.94-2.06 2.06-.94-2.06-.94-.94-2.06-.94 2.06-2.06.94zm-11 1L8.5 8.5l.94-2.06 2.06-.94-2.06-.94L8.5 2.5l-.94 2.06-2.06.94zm10 10l.94 2.06.94-2.06 2.06-.94-2.06-.94-.94-2.06-.94 2.06-2.06.94z\"/><path d=\"M17.41 7.96l-1.37-1.37c-.4-.4-.92-.59-1.43-.59-.52 0-1.04.2-1.43.59L10.3 9.45l-7.72 7.72c-.78.78-.78 2.05 0 2.83L4 21.41c.39.39.9.59 1.41.59.51 0 1.02-.2 1.41-.59l7.78-7.78 2.81-2.81c.8-.78.8-2.07 0-2.86zM5.41 20L4 18.59l7.72-7.72 1.47 1.35L5.41 20z\"/>\n",
              "  </svg>\n",
              "      </button>\n",
              "      \n",
              "  <style>\n",
              "    .colab-df-container {\n",
              "      display:flex;\n",
              "      flex-wrap:wrap;\n",
              "      gap: 12px;\n",
              "    }\n",
              "\n",
              "    .colab-df-convert {\n",
              "      background-color: #E8F0FE;\n",
              "      border: none;\n",
              "      border-radius: 50%;\n",
              "      cursor: pointer;\n",
              "      display: none;\n",
              "      fill: #1967D2;\n",
              "      height: 32px;\n",
              "      padding: 0 0 0 0;\n",
              "      width: 32px;\n",
              "    }\n",
              "\n",
              "    .colab-df-convert:hover {\n",
              "      background-color: #E2EBFA;\n",
              "      box-shadow: 0px 1px 2px rgba(60, 64, 67, 0.3), 0px 1px 3px 1px rgba(60, 64, 67, 0.15);\n",
              "      fill: #174EA6;\n",
              "    }\n",
              "\n",
              "    [theme=dark] .colab-df-convert {\n",
              "      background-color: #3B4455;\n",
              "      fill: #D2E3FC;\n",
              "    }\n",
              "\n",
              "    [theme=dark] .colab-df-convert:hover {\n",
              "      background-color: #434B5C;\n",
              "      box-shadow: 0px 1px 3px 1px rgba(0, 0, 0, 0.15);\n",
              "      filter: drop-shadow(0px 1px 2px rgba(0, 0, 0, 0.3));\n",
              "      fill: #FFFFFF;\n",
              "    }\n",
              "  </style>\n",
              "\n",
              "      <script>\n",
              "        const buttonEl =\n",
              "          document.querySelector('#df-4aeef1cc-dc3f-41cc-9d75-6856f2786241 button.colab-df-convert');\n",
              "        buttonEl.style.display =\n",
              "          google.colab.kernel.accessAllowed ? 'block' : 'none';\n",
              "\n",
              "        async function convertToInteractive(key) {\n",
              "          const element = document.querySelector('#df-4aeef1cc-dc3f-41cc-9d75-6856f2786241');\n",
              "          const dataTable =\n",
              "            await google.colab.kernel.invokeFunction('convertToInteractive',\n",
              "                                                     [key], {});\n",
              "          if (!dataTable) return;\n",
              "\n",
              "          const docLinkHtml = 'Like what you see? Visit the ' +\n",
              "            '<a target=\"_blank\" href=https://colab.research.google.com/notebooks/data_table.ipynb>data table notebook</a>'\n",
              "            + ' to learn more about interactive tables.';\n",
              "          element.innerHTML = '';\n",
              "          dataTable['output_type'] = 'display_data';\n",
              "          await google.colab.output.renderOutput(dataTable, element);\n",
              "          const docLink = document.createElement('div');\n",
              "          docLink.innerHTML = docLinkHtml;\n",
              "          element.appendChild(docLink);\n",
              "        }\n",
              "      </script>\n",
              "    </div>\n",
              "  </div>\n",
              "  "
            ]
          },
          "metadata": {},
          "execution_count": 23
        }
      ]
    },
    {
      "cell_type": "code",
      "source": [
        "import requests as re\n",
        "f = lambda x: re.get(x).text\n",
        "calls['impact'] = calls.doi.apply(f)   "
      ],
      "metadata": {
        "id": "75029b91xVnl"
      },
      "execution_count": null,
      "outputs": []
    },
    {
      "cell_type": "code",
      "source": [
        "calls"
      ],
      "metadata": {
        "colab": {
          "base_uri": "https://localhost:8080/",
          "height": 1000
        },
        "id": "qlfl6z0Jxcw3",
        "outputId": "0460fa31-3072-487f-a8fd-0a3ad49a7ebe"
      },
      "execution_count": null,
      "outputs": [
        {
          "output_type": "execute_result",
          "data": {
            "text/plain": [
              "                                                             doi  cord_uid  \\\n",
              "0     https://api.altmetric.com/v1/doi/10.1186/s40560-019-0415-z  f9tg6xsg   \n",
              "1     https://api.altmetric.com/v1/doi/10.1186/s40635-019-0284-8  f73c639r   \n",
              "2     https://api.altmetric.com/v1/doi/10.1186/s12864-019-6400-z  1qgpa45q   \n",
              "3     https://api.altmetric.com/v1/doi/10.1186/s13756-019-0662-8  g34f5w6b   \n",
              "4     https://api.altmetric.com/v1/doi/10.1186/s12929-019-0591-0  d1pd09zj   \n",
              "...                                                          ...       ...   \n",
              "9995   https://api.altmetric.com/v1/doi/10.3390/medicina56120725  i2b6prxu   \n",
              "9996          https://api.altmetric.com/v1/doi/10.3390/v12121475  t6ww61va   \n",
              "9997   https://api.altmetric.com/v1/doi/10.3390/pathogens9121078  jz1g2ima   \n",
              "9998         https://api.altmetric.com/v1/doi/10.3390/jof6040385  kzo7ez30   \n",
              "9999   https://api.altmetric.com/v1/doi/10.3389/fpls.2020.610790  xkt8gd9p   \n",
              "\n",
              "                                                                                                                                                                                                                                                                                                                                                                                                                                                                                                                                                                                                                                                                                                                                                                                                                                                                                                                                                                                                                                                                                                                                                                                                                                                                                                                                                                                                                                                                                                                                                                                                                                                                                                                                                                                                                                                                                                                                                                                                                                                                                                                                                                                                                                                                                                                    impact  \n",
              "0                                                                                                                                                                                                                                                                                                                                                                                                                                                                          {\"title\":\"Dexmedetomidine improved renal function in patients with severe sepsis: an exploratory analysis of a randomized controlled trial\",\"doi\":\"10.1186/s40560-019-0415-z\",\"altmetric_jid\":\"52d3ea3486a3487b7e8b462f\",\"issns\":[\"2052-0492\"],\"journal\":\"Journal of Intensive Care\",\"cohorts\":{\"pub\":3,\"doc\":1,\"com\":1},\"context\":{\"all\":{\"count\":20485557,\"mean\":9.810633031363073,\"rank\":11751859,\"pct\":42,\"higher_than\":8617919},\"journal\":{\"count\":470,\"mean\":10.49308510638298,\"rank\":272,\"pct\":40,\"higher_than\":192},\"similar_age_3m\":{\"count\":417074,\"mean\":13.281103003302887,\"rank\":197668,\"pct\":51,\"higher_than\":215751},\"similar_age_journal_3m\":{\"count\":51,\"mean\":8.168627450980392,\"rank\":28,\"pct\":47,\"higher_than\":24}},\"authors\":[\"Tsuyoshi Nakashima\",\"Kyohei Miyamoto\",\"Nozomu Shima\",\"Seiya Kato\",\"Yu Kawazoe\",\"Yoshinori Ohta\",\"Takeshi Morimoto\",\"Hitoshi Yamamura\"],\"type\":\"article\",\"altmetric_id\":73537965,\"schema\":\"1.5.4\",\"is_oa\":false,\"publisher_subjects\":[{\"name\":\"Intensive / Critical Care Medicine\",\"scheme\":\"springer\"},{\"name\":\"Medicine & Public Health\",\"scheme\":\"springer\"}],\"cited_by_posts_count\":6,\"cited_by_tweeters_count\":5,\"cited_by_accounts_count\":5,\"last_updated\":1624374589,\"score\":2.25,\"history\":{\"1y\":1,\"6m\":0,\"3m\":0,\"1m\":0,\"1w\":0,\"6d\":0,\"5d\":0,\"4d\":0,\"3d\":0,\"2d\":0,\"1d\":0,\"at\":2.25},\"url\":\"http://dx.doi.org/10.1186/s40560-019-0415-z\",\"added_on\":1578022157,\"published_on\":1577923200,\"readers\":{\"citeulike\":\"0\",\"mendeley\":\"34\",\"connotea\":\"0\"},\"readers_count\":34,\"images\":{\"small\":\"https://badges.altmetric.com/?size=64&score=3&types=tttttttt\",\"medium\":\"https://badges.altmetric.com/?size=100&score=3&types=tttttttt\",\"large\":\"https://badges.altmetric.com/?size=180&score=3&types=tttttttt\"},\"details_url\":\"https://www.altmetric.com/details.php?citation_id=73537965\"}  \n",
              "1                                                                                                                                                                                                                                                                                                                                                                                                                                                                                                                                                                                                                                                                                                                                                                                                                                                                                                                                                                                                                                                                                                                                                                                                                                                                                                                                                                                                                                                                                                                                                                                                                                                                                                                                                                                                                                                                                                                                                                                                                                                                                                                                                                                                                                                                                                                Not Found  \n",
              "2     {\"title\":\"Whole genome sequencing and phylogenetic analysis of human metapneumovirus strains from Kenya and Zambia\",\"doi\":\"10.1186/s12864-019-6400-z\",\"pmid\":\"31898474\",\"isbns\":[],\"altmetric_jid\":\"4f6fa4d03cf058f6100007b9\",\"issns\":[\"1471-2164\"],\"journal\":\"BMC Genomics\",\"cohorts\":{\"pub\":1},\"context\":{\"all\":{\"count\":17882239,\"mean\":9.484234012868734,\"rank\":15805480,\"pct\":1,\"higher_than\":0},\"journal\":{\"count\":9453,\"mean\":4.380810536337678,\"rank\":8159,\"pct\":1,\"higher_than\":0},\"similar_age_3m\":{\"count\":396146,\"mean\":12.997576620739943,\"rank\":330174,\"pct\":1,\"higher_than\":0},\"similar_age_journal_3m\":{\"count\":817,\"mean\":4.111747858017138,\"rank\":674,\"pct\":1,\"higher_than\":0}},\"authors\":[\"Everlyn Kamau\",\"John W. Oketch\",\"Zaydah R. de Laurent\",\"My V. T. Phan\",\"Charles N. Agoti\",\"D. James Nokes\",\"Matthew Cotten\"],\"type\":\"article\",\"handles\":[],\"altmetric_id\":73584247,\"schema\":\"1.5.4\",\"is_oa\":false,\"publisher_subjects\":[{\"name\":\"Animal Genetics and Genomics\",\"scheme\":\"springer\"},{\"name\":\"Life Sciences\",\"scheme\":\"springer\"},{\"name\":\"Life Sciences, general\",\"scheme\":\"springer\"},{\"name\":\"Microarrays\",\"scheme\":\"springer\"},{\"name\":\"Microbial Genetics and Genomics\",\"scheme\":\"springer\"},{\"name\":\"Plant Genetics and Genomics\",\"scheme\":\"springer\"},{\"name\":\"Proteomics\",\"scheme\":\"springer\"},{\"name\":\"Biological Sciences\",\"scheme\":\"era\"},{\"name\":\"Medical And Health Sciences\",\"scheme\":\"era\"},{\"name\":\"Information And Computing Sciences\",\"scheme\":\"era\"}],\"cited_by_posts_count\":1,\"cited_by_tweeters_count\":1,\"cited_by_accounts_count\":1,\"last_updated\":1591266873,\"score\":0.25,\"history\":{\"1y\":0,\"6m\":0,\"3m\":0,\"1m\":0,\"1w\":0,\"6d\":0,\"5d\":0,\"4d\":0,\"3d\":0,\"2d\":0,\"1d\":0,\"at\":0.25},\"url\":\"http://dx.doi.org/10.1186/s12864-019-6400-z\",\"added_on\":1578138078,\"published_on\":1577923200,\"scopus_subjects\":[\"Biochemistry, Genetics and Molecular Biology\",\"Life Sciences\"],\"readers\":{\"citeulike\":\"0\",\"mendeley\":\"18\",\"connotea\":\"0\"},\"readers_count\":18,\"images\":{\"small\":\"https://badges.altmetric.com/?size=64&score=1&types=tttttttt\",\"medium\":\"https://badges.altmetric.com/?size=100&score=1&types=tttttttt\",\"large\":\"https://badges.altmetric.com/?size=180&score=1&types=tttttttt\"},\"details_url\":\"https://www.altmetric.com/details.php?citation_id=73584247\"}  \n",
              "3                                                                                                                                                                                                                                                                                                            {\"title\":\"European intensive care physicians’ experience of infections due to antibiotic-resistant bacteria\",\"doi\":\"10.1186/s13756-019-0662-8\",\"pmid\":\"31908772\",\"altmetric_jid\":\"4f6fa4d03cf058f61000079e\",\"issns\":[\"2047-2994\"],\"journal\":\"Antimicrobial Resistance and Infection Control\",\"cohorts\":{\"sci\":3,\"doc\":1,\"com\":1,\"pub\":7},\"context\":{\"all\":{\"count\":20114180,\"mean\":9.727389579790733,\"rank\":1619631,\"pct\":91,\"higher_than\":18480332},\"journal\":{\"count\":1129,\"mean\":16.29156067316209,\"rank\":214,\"pct\":80,\"higher_than\":914},\"similar_age_3m\":{\"count\":414496,\"mean\":13.22304370609032,\"rank\":50907,\"pct\":87,\"higher_than\":363404},\"similar_age_journal_3m\":{\"count\":203,\"mean\":13.924945812807882,\"rank\":57,\"pct\":72,\"higher_than\":147}},\"authors\":[\"Alain Lepape\",\"Astrid Jean\",\"Jan De Waele\",\"Arnaud Friggeri\",\"Anne Savey\",\"Philippe Vanhems\",\"Marie Paule Gustin\",\"Dominique L. Monnet\",\"José Garnacho-Montero\",\"Anke Kohlenberg\"],\"type\":\"article\",\"altmetric_id\":73534332,\"schema\":\"1.5.4\",\"is_oa\":false,\"publisher_subjects\":[{\"name\":\"Biomedicine\",\"scheme\":\"springer\"},{\"name\":\"Drug Resistance\",\"scheme\":\"springer\"},{\"name\":\"Infectious Diseases\",\"scheme\":\"springer\"},{\"name\":\"Medical Microbiology\",\"scheme\":\"springer\"}],\"cited_by_posts_count\":18,\"cited_by_tweeters_count\":12,\"cited_by_msm_count\":1,\"cited_by_accounts_count\":13,\"last_updated\":1611329758,\"score\":16,\"history\":{\"1y\":0,\"6m\":0,\"3m\":0,\"1m\":0,\"1w\":0,\"6d\":0,\"5d\":0,\"4d\":0,\"3d\":0,\"2d\":0,\"1d\":0,\"at\":16},\"url\":\"http://dx.doi.org/10.1186/s13756-019-0662-8\",\"added_on\":1578014747,\"published_on\":1577923200,\"readers\":{\"citeulike\":\"0\",\"mendeley\":\"40\",\"connotea\":\"0\"},\"readers_count\":40,\"images\":{\"small\":\"https://badges.altmetric.com/?size=64&score=16&types=mmtttttt\",\"medium\":\"https://badges.altmetric.com/?size=100&score=16&types=mmtttttt\",\"large\":\"https://badges.altmetric.com/?size=180&score=16&types=mmtttttt\"},\"details_url\":\"https://www.altmetric.com/details.php?citation_id=73534332\"}  \n",
              "4                                                                                                                                                                                                                                                                                                                                                                                    {\"title\":\"Synthetic carbohydrate-based vaccines: challenges and opportunities\",\"doi\":\"10.1186/s12929-019-0591-0\",\"pmid\":\"31900143\",\"altmetric_jid\":\"4f6fa4d03cf058f610000847\",\"issns\":[\"1423-0127\"],\"journal\":\"Journal of Biomedical Science\",\"cohorts\":[],\"context\":{\"all\":{\"count\":20585915,\"mean\":9.827256996650396,\"rank\":6693722,\"pct\":45,\"higher_than\":9311040},\"journal\":{\"count\":900,\"mean\":7.958700000000001,\"rank\":256,\"pct\":46,\"higher_than\":419},\"similar_age_3m\":{\"count\":420021,\"mean\":14.9427712804823,\"rank\":160071,\"pct\":60,\"higher_than\":254832},\"similar_age_journal_3m\":{\"count\":64,\"mean\":5.92109375,\"rank\":19,\"pct\":71,\"higher_than\":46}},\"authors\":[\"Ravinder Mettu\",\"Chiang-Yun Chen\",\"Chung-Yi Wu\"],\"type\":\"article\",\"altmetric_id\":115632797,\"schema\":\"1.5.4\",\"is_oa\":false,\"publisher_subjects\":[{\"name\":\"Medical And Health Sciences\",\"scheme\":\"era\"},{\"name\":\"Biological Sciences\",\"scheme\":\"era\"},{\"name\":\"Information And Computing Sciences\",\"scheme\":\"era\"},{\"name\":\"Biomedicine\",\"scheme\":\"springer\"},{\"name\":\"Biomedicine, general\",\"scheme\":\"springer\"}],\"cited_by_policies_count\":1,\"cited_by_posts_count\":1,\"cited_by_accounts_count\":1,\"last_updated\":1632873600,\"score\":3,\"history\":{\"1y\":3,\"6m\":0,\"3m\":0,\"1m\":0,\"1w\":0,\"6d\":0,\"5d\":0,\"4d\":0,\"3d\":0,\"2d\":0,\"1d\":0,\"at\":3},\"url\":\"http://dx.doi.org/10.1186/s12929-019-0591-0\",\"added_on\":1634959915,\"published_on\":1578009600,\"scopus_subjects\":[\"Biochemistry, Genetics and Molecular Biology\",\"Life Sciences\",\"Health Sciences\",\"Medicine\"],\"readers\":{\"citeulike\":\"0\",\"mendeley\":\"100\",\"connotea\":\"0\"},\"readers_count\":100,\"images\":{\"small\":\"https://badges.altmetric.com/?size=64&score=3&types=dddddddd\",\"medium\":\"https://badges.altmetric.com/?size=100&score=3&types=dddddddd\",\"large\":\"https://badges.altmetric.com/?size=180&score=3&types=dddddddd\"},\"details_url\":\"https://www.altmetric.com/details.php?citation_id=115632797\"}  \n",
              "...                                                                                                                                                                                                                                                                                                                                                                                                                                                                                                                                                                                                                                                                                                                                                                                                                                                                                                                                                                                                                                                                                                                                                                                                                                                                                                                                                                                                                                                                                                                                                                                                                                                                                                                                                                                                                                                                                                                                                                                                                                                                                                                                                                                                                                                                                                                    ...  \n",
              "9995                                                                                                                                                                                                                                                                                                                                                                                                                                                                                                                                                                              {\"title\":\"Suicidality in Patients with Brain Tumors: A Brief Literature Review with Clinical Exemplar\",\"doi\":\"10.3390/medicina56120725\",\"pmid\":\"33371470\",\"altmetric_jid\":\"4f6fa62c3cf058f610008138\",\"issns\":[\"1010-660X\"],\"journal\":\"Medicina (Rijeka)\",\"cohorts\":{\"pub\":1,\"doc\":1},\"context\":{\"all\":{\"count\":19862278,\"mean\":9.7093333346782,\"rank\":12229015,\"pct\":36,\"higher_than\":7244689},\"journal\":{\"count\":790,\"mean\":3.1954481012658,\"rank\":268,\"pct\":62,\"higher_than\":491},\"similar_age_3m\":{\"count\":469048,\"mean\":15.11318328188,\"rank\":249608,\"pct\":43,\"higher_than\":205966},\"similar_age_journal_3m\":{\"count\":9,\"mean\":4.4777777777778,\"rank\":9,\"pct\":11,\"higher_than\":1}},\"authors\":[\"Alessandra Costanza\",\"Francesco Zenga\",\"Roberta Rudà\",\"Andrea Amerio\",\"Andrea Aguglia\",\"Gianluca Serafini\",\"Mario Amore\",\"Guido Bondolfi\",\"Isabella Berardelli\",\"Khoa Dinh Nguyen\"],\"type\":\"article\",\"altmetric_id\":96862096,\"schema\":\"1.5.4\",\"is_oa\":false,\"cited_by_posts_count\":2,\"cited_by_tweeters_count\":2,\"cited_by_accounts_count\":2,\"last_updated\":1609389107,\"score\":1.5,\"history\":{\"1y\":0,\"6m\":0,\"3m\":0,\"1m\":0,\"1w\":0,\"6d\":0,\"5d\":0,\"4d\":0,\"3d\":0,\"2d\":0,\"1d\":0,\"at\":1.5},\"url\":\"http://dx.doi.org/10.3390/medicina56120725\",\"added_on\":1609387685,\"published_on\":1608508800,\"scopus_subjects\":[\"Medicine\",\"Health Sciences\"],\"readers\":{\"citeulike\":\"0\",\"mendeley\":\"13\",\"connotea\":\"0\"},\"readers_count\":13,\"images\":{\"small\":\"https://badges.altmetric.com/?size=64&score=2&types=tttttttt\",\"medium\":\"https://badges.altmetric.com/?size=100&score=2&types=tttttttt\",\"large\":\"https://badges.altmetric.com/?size=180&score=2&types=tttttttt\"},\"details_url\":\"https://www.altmetric.com/details.php?citation_id=96862096\"}  \n",
              "9996                                                                                                                                                                                                                                                                                                                                                                                                                                                                                                                                                                                                            {\"title\":\"The Antimalarial Compound Atovaquone Inhibits Zika and Dengue Virus Infection by Blocking E Protein-Mediated Membrane Fusion\",\"doi\":\"10.3390/v12121475\",\"pmid\":\"33371476\",\"altmetric_jid\":\"4f6fa53b3cf058f610004704\",\"issns\":[\"1999-4915\"],\"journal\":\"Viruses\",\"cohorts\":{\"pub\":4,\"com\":1},\"context\":{\"all\":{\"count\":20591902,\"mean\":9.828340837004752,\"rank\":2397820,\"pct\":88,\"higher_than\":18164492},\"journal\":{\"count\":6591,\"mean\":11.676221817630566,\"rank\":782,\"pct\":88,\"higher_than\":5809},\"similar_age_3m\":{\"count\":478891,\"mean\":15.228466761745947,\"rank\":80916,\"pct\":82,\"higher_than\":397361},\"similar_age_journal_3m\":{\"count\":66,\"mean\":32.441000000000045,\"rank\":20,\"pct\":71,\"higher_than\":47}},\"authors\":[\"Mizuki Yamamoto\",\"Takeshi Ichinohe\",\"Aya Watanabe\",\"Ayako Kobayashi\",\"Rui Zhang\",\"Jiping Song\",\"Yasushi Kawaguchi\",\"Zene Matsuda\",\"Jun-ichiro Inoue\"],\"type\":\"article\",\"altmetric_id\":96843504,\"schema\":\"1.5.4\",\"is_oa\":false,\"cited_by_posts_count\":6,\"cited_by_tweeters_count\":5,\"cited_by_msm_count\":1,\"cited_by_accounts_count\":6,\"last_updated\":1639752900,\"score\":11,\"history\":{\"1y\":7,\"6m\":7,\"3m\":0,\"1m\":0,\"1w\":0,\"6d\":0,\"5d\":0,\"4d\":0,\"3d\":0,\"2d\":0,\"1d\":0,\"at\":11},\"url\":\"http://dx.doi.org/10.3390/v12121475\",\"added_on\":1609348913,\"published_on\":1608508800,\"readers\":{\"citeulike\":\"0\",\"mendeley\":\"11\",\"connotea\":\"0\"},\"readers_count\":11,\"images\":{\"small\":\"https://badges.altmetric.com/?size=64&score=11&types=mttttttt\",\"medium\":\"https://badges.altmetric.com/?size=100&score=11&types=mttttttt\",\"large\":\"https://badges.altmetric.com/?size=180&score=11&types=mttttttt\"},\"details_url\":\"https://www.altmetric.com/details.php?citation_id=96843504\"}  \n",
              "9997                                                                                                                                                                                                                                                                                                                                                                                                                                                                                                                                                                                                                                                                       {\"title\":\"Computational Analysis of African Swine Fever Virus Protein Space for the Design of an Epitope-Based Vaccine Ensemble\",\"doi\":\"10.3390/pathogens9121078\",\"pmid\":\"33371523\",\"altmetric_jid\":\"56c1ef652a83ee09648b4f1a\",\"issns\":[\"2076-0817\"],\"journal\":\"Pathogens\",\"cohorts\":{\"pub\":1,\"sci\":1},\"context\":{\"all\":{\"count\":19856719,\"mean\":9.708293939905662,\"rank\":15358038,\"pct\":19,\"higher_than\":3908178},\"journal\":{\"count\":2324,\"mean\":5.527880378657494,\"rank\":1423,\"pct\":31,\"higher_than\":730},\"similar_age_3m\":{\"count\":469732,\"mean\":15.082526304359568,\"rank\":326378,\"pct\":26,\"higher_than\":123549},\"similar_age_journal_3m\":{\"count\":51,\"mean\":5.891098039215687,\"rank\":34,\"pct\":29,\"higher_than\":15}},\"authors\":[\"Albert Ros-Lucas\",\"Florencia Correa-Fiz\",\"Laia Bosch-Camós\",\"Fernando Rodriguez\",\"Julio Alonso-Padilla\"],\"type\":\"article\",\"altmetric_id\":96794458,\"schema\":\"1.5.4\",\"is_oa\":false,\"cited_by_posts_count\":2,\"cited_by_tweeters_count\":2,\"cited_by_accounts_count\":2,\"last_updated\":1609326963,\"score\":0.75,\"history\":{\"1y\":0,\"6m\":0,\"3m\":0,\"1m\":0,\"1w\":0,\"6d\":0,\"5d\":0,\"4d\":0,\"3d\":0,\"2d\":0,\"1d\":0,\"at\":0.75},\"url\":\"http://dx.doi.org/10.3390/pathogens9121078\",\"added_on\":1609243234,\"published_on\":1608508800,\"readers\":{\"citeulike\":\"0\",\"mendeley\":\"19\",\"connotea\":\"0\"},\"readers_count\":19,\"images\":{\"small\":\"https://badges.altmetric.com/?size=64&score=1&types=tttttttt\",\"medium\":\"https://badges.altmetric.com/?size=100&score=1&types=tttttttt\",\"large\":\"https://badges.altmetric.com/?size=180&score=1&types=tttttttt\"},\"details_url\":\"https://www.altmetric.com/details.php?citation_id=96794458\"}  \n",
              "9998                                                                                                                                                                                                                                                                                                                                                                                                                                                                                                                                                                            {\"title\":\"Safety and Efficacy of Intermittent High-Dose Liposomal Amphotericin B Antifungal Prophylaxis in Haemato-Oncology: An Eight-Year Single-Centre Experience and Review of the Literature\",\"doi\":\"10.3390/jof6040385\",\"pmid\":\"33371513\",\"altmetric_jid\":\"56b368412a83ee42788b45f4\",\"issns\":[\"2309-608X\"],\"journal\":\"Journal of Fungi\",\"cohorts\":{\"doc\":1,\"sci\":1},\"context\":{\"all\":{\"count\":20457135,\"mean\":9.806595773656207,\"rank\":12209844,\"pct\":39,\"higher_than\":8059486},\"journal\":{\"count\":1485,\"mean\":5.0721481481481465,\"rank\":670,\"pct\":52,\"higher_than\":784},\"similar_age_3m\":{\"count\":371446,\"mean\":17.421974451197844,\"rank\":190592,\"pct\":47,\"higher_than\":175195},\"similar_age_journal_3m\":{\"count\":28,\"mean\":5.889285714285714,\"rank\":22,\"pct\":21,\"higher_than\":6}},\"authors\":[\"Jonathan Youngs\",\"Jen Mae Low\",\"Laura Whitney\",\"Clare Logan\",\"Janice Chase\",\"Ting Yau\",\"Matthias Klammer\",\"Mickey Koh\",\"Tihana Bicanic\"],\"type\":\"article\",\"altmetric_id\":101640170,\"schema\":\"1.5.4\",\"is_oa\":false,\"cited_by_posts_count\":2,\"cited_by_tweeters_count\":2,\"cited_by_accounts_count\":2,\"last_updated\":1615395830,\"score\":1.85,\"history\":{\"1y\":0,\"6m\":0,\"3m\":0,\"1m\":0,\"1w\":0,\"6d\":0,\"5d\":0,\"4d\":0,\"3d\":0,\"2d\":0,\"1d\":0,\"at\":1.85},\"url\":\"http://dx.doi.org/10.3390/jof6040385\",\"added_on\":1616063469,\"published_on\":1608508800,\"readers\":{\"citeulike\":\"0\",\"mendeley\":\"9\",\"connotea\":\"0\"},\"readers_count\":9,\"images\":{\"small\":\"https://badges.altmetric.com/?size=64&score=2&types=tttttttt\",\"medium\":\"https://badges.altmetric.com/?size=100&score=2&types=tttttttt\",\"large\":\"https://badges.altmetric.com/?size=180&score=2&types=tttttttt\"},\"details_url\":\"https://www.altmetric.com/details.php?citation_id=101640170\"}  \n",
              "9999                                                                                                                                                                                                                                                                                                                                                                                                                                                                                                                                                                                                                                    {\"title\":\"Accurate Detection and Evaluation of the Gene-Editing Frequency in Plants Using Droplet Digital PCR\",\"doi\":\"10.3389/fpls.2020.610790\",\"pmid\":\"33381141\",\"altmetric_jid\":\"52f8bc933cf058d4628b456f\",\"issns\":[\"1664-462X\"],\"journal\":\"Frontiers in Plant Science\",\"cohorts\":{\"pub\":1,\"sci\":2,\"com\":1},\"context\":{\"all\":{\"count\":19865530,\"mean\":9.70952590150238,\"rank\":2300345,\"pct\":88,\"higher_than\":17534977},\"journal\":{\"count\":14862,\"mean\":4.08371053693987,\"rank\":999,\"pct\":93,\"higher_than\":13850},\"similar_age_3m\":{\"count\":468899,\"mean\":15.102322640908692,\"rank\":78881,\"pct\":83,\"higher_than\":389360},\"similar_age_journal_3m\":{\"count\":931,\"mean\":4.096863587540281,\"rank\":62,\"pct\":93,\"higher_than\":870}},\"authors\":[\"Cheng Peng\",\"Ming Zheng\",\"Lin Ding\",\"Xiaoyun Chen\",\"Xiaofu Wang\",\"Xuping Feng\",\"Junmin Wang\",\"Junfeng Xu\"],\"type\":\"article\",\"altmetric_id\":96961673,\"schema\":\"1.5.4\",\"is_oa\":false,\"cited_by_posts_count\":5,\"cited_by_tweeters_count\":4,\"cited_by_msm_count\":1,\"cited_by_accounts_count\":5,\"last_updated\":1633305600,\"score\":11,\"history\":{\"1y\":9.75,\"6m\":7,\"3m\":0,\"1m\":0,\"1w\":0,\"6d\":0,\"5d\":0,\"4d\":0,\"3d\":0,\"2d\":0,\"1d\":0,\"at\":11},\"url\":\"http://dx.doi.org/10.3389/fpls.2020.610790\",\"added_on\":1609560075,\"published_on\":1607904000,\"readers\":{\"citeulike\":\"0\",\"mendeley\":\"20\",\"connotea\":\"0\"},\"readers_count\":20,\"images\":{\"small\":\"https://badges.altmetric.com/?size=64&score=11&types=mmtttttt\",\"medium\":\"https://badges.altmetric.com/?size=100&score=11&types=mmtttttt\",\"large\":\"https://badges.altmetric.com/?size=180&score=11&types=mmtttttt\"},\"details_url\":\"https://www.altmetric.com/details.php?citation_id=96961673\"}  \n",
              "\n",
              "[10000 rows x 3 columns]"
            ],
            "text/html": [
              "\n",
              "  <div id=\"df-b1c7e7af-73e0-4a38-87b8-1b723afed365\">\n",
              "    <div class=\"colab-df-container\">\n",
              "      <div>\n",
              "<style scoped>\n",
              "    .dataframe tbody tr th:only-of-type {\n",
              "        vertical-align: middle;\n",
              "    }\n",
              "\n",
              "    .dataframe tbody tr th {\n",
              "        vertical-align: top;\n",
              "    }\n",
              "\n",
              "    .dataframe thead th {\n",
              "        text-align: right;\n",
              "    }\n",
              "</style>\n",
              "<table border=\"1\" class=\"dataframe\">\n",
              "  <thead>\n",
              "    <tr style=\"text-align: right;\">\n",
              "      <th></th>\n",
              "      <th>doi</th>\n",
              "      <th>cord_uid</th>\n",
              "      <th>impact</th>\n",
              "    </tr>\n",
              "  </thead>\n",
              "  <tbody>\n",
              "    <tr>\n",
              "      <th>0</th>\n",
              "      <td>https://api.altmetric.com/v1/doi/10.1186/s40560-019-0415-z</td>\n",
              "      <td>f9tg6xsg</td>\n",
              "      <td>{\"title\":\"Dexmedetomidine improved renal function in patients with severe sepsis: an exploratory analysis of a randomized controlled trial\",\"doi\":\"10.1186/s40560-019-0415-z\",\"altmetric_jid\":\"52d3ea3486a3487b7e8b462f\",\"issns\":[\"2052-0492\"],\"journal\":\"Journal of Intensive Care\",\"cohorts\":{\"pub\":3,\"doc\":1,\"com\":1},\"context\":{\"all\":{\"count\":20485557,\"mean\":9.810633031363073,\"rank\":11751859,\"pct\":42,\"higher_than\":8617919},\"journal\":{\"count\":470,\"mean\":10.49308510638298,\"rank\":272,\"pct\":40,\"higher_than\":192},\"similar_age_3m\":{\"count\":417074,\"mean\":13.281103003302887,\"rank\":197668,\"pct\":51,\"higher_than\":215751},\"similar_age_journal_3m\":{\"count\":51,\"mean\":8.168627450980392,\"rank\":28,\"pct\":47,\"higher_than\":24}},\"authors\":[\"Tsuyoshi Nakashima\",\"Kyohei Miyamoto\",\"Nozomu Shima\",\"Seiya Kato\",\"Yu Kawazoe\",\"Yoshinori Ohta\",\"Takeshi Morimoto\",\"Hitoshi Yamamura\"],\"type\":\"article\",\"altmetric_id\":73537965,\"schema\":\"1.5.4\",\"is_oa\":false,\"publisher_subjects\":[{\"name\":\"Intensive / Critical Care Medicine\",\"scheme\":\"springer\"},{\"name\":\"Medicine &amp; Public Health\",\"scheme\":\"springer\"}],\"cited_by_posts_count\":6,\"cited_by_tweeters_count\":5,\"cited_by_accounts_count\":5,\"last_updated\":1624374589,\"score\":2.25,\"history\":{\"1y\":1,\"6m\":0,\"3m\":0,\"1m\":0,\"1w\":0,\"6d\":0,\"5d\":0,\"4d\":0,\"3d\":0,\"2d\":0,\"1d\":0,\"at\":2.25},\"url\":\"http://dx.doi.org/10.1186/s40560-019-0415-z\",\"added_on\":1578022157,\"published_on\":1577923200,\"readers\":{\"citeulike\":\"0\",\"mendeley\":\"34\",\"connotea\":\"0\"},\"readers_count\":34,\"images\":{\"small\":\"https://badges.altmetric.com/?size=64&amp;score=3&amp;types=tttttttt\",\"medium\":\"https://badges.altmetric.com/?size=100&amp;score=3&amp;types=tttttttt\",\"large\":\"https://badges.altmetric.com/?size=180&amp;score=3&amp;types=tttttttt\"},\"details_url\":\"https://www.altmetric.com/details.php?citation_id=73537965\"}</td>\n",
              "    </tr>\n",
              "    <tr>\n",
              "      <th>1</th>\n",
              "      <td>https://api.altmetric.com/v1/doi/10.1186/s40635-019-0284-8</td>\n",
              "      <td>f73c639r</td>\n",
              "      <td>Not Found</td>\n",
              "    </tr>\n",
              "    <tr>\n",
              "      <th>2</th>\n",
              "      <td>https://api.altmetric.com/v1/doi/10.1186/s12864-019-6400-z</td>\n",
              "      <td>1qgpa45q</td>\n",
              "      <td>{\"title\":\"Whole genome sequencing and phylogenetic analysis of human metapneumovirus strains from Kenya and Zambia\",\"doi\":\"10.1186/s12864-019-6400-z\",\"pmid\":\"31898474\",\"isbns\":[],\"altmetric_jid\":\"4f6fa4d03cf058f6100007b9\",\"issns\":[\"1471-2164\"],\"journal\":\"BMC Genomics\",\"cohorts\":{\"pub\":1},\"context\":{\"all\":{\"count\":17882239,\"mean\":9.484234012868734,\"rank\":15805480,\"pct\":1,\"higher_than\":0},\"journal\":{\"count\":9453,\"mean\":4.380810536337678,\"rank\":8159,\"pct\":1,\"higher_than\":0},\"similar_age_3m\":{\"count\":396146,\"mean\":12.997576620739943,\"rank\":330174,\"pct\":1,\"higher_than\":0},\"similar_age_journal_3m\":{\"count\":817,\"mean\":4.111747858017138,\"rank\":674,\"pct\":1,\"higher_than\":0}},\"authors\":[\"Everlyn Kamau\",\"John W. Oketch\",\"Zaydah R. de Laurent\",\"My V. T. Phan\",\"Charles N. Agoti\",\"D. James Nokes\",\"Matthew Cotten\"],\"type\":\"article\",\"handles\":[],\"altmetric_id\":73584247,\"schema\":\"1.5.4\",\"is_oa\":false,\"publisher_subjects\":[{\"name\":\"Animal Genetics and Genomics\",\"scheme\":\"springer\"},{\"name\":\"Life Sciences\",\"scheme\":\"springer\"},{\"name\":\"Life Sciences, general\",\"scheme\":\"springer\"},{\"name\":\"Microarrays\",\"scheme\":\"springer\"},{\"name\":\"Microbial Genetics and Genomics\",\"scheme\":\"springer\"},{\"name\":\"Plant Genetics and Genomics\",\"scheme\":\"springer\"},{\"name\":\"Proteomics\",\"scheme\":\"springer\"},{\"name\":\"Biological Sciences\",\"scheme\":\"era\"},{\"name\":\"Medical And Health Sciences\",\"scheme\":\"era\"},{\"name\":\"Information And Computing Sciences\",\"scheme\":\"era\"}],\"cited_by_posts_count\":1,\"cited_by_tweeters_count\":1,\"cited_by_accounts_count\":1,\"last_updated\":1591266873,\"score\":0.25,\"history\":{\"1y\":0,\"6m\":0,\"3m\":0,\"1m\":0,\"1w\":0,\"6d\":0,\"5d\":0,\"4d\":0,\"3d\":0,\"2d\":0,\"1d\":0,\"at\":0.25},\"url\":\"http://dx.doi.org/10.1186/s12864-019-6400-z\",\"added_on\":1578138078,\"published_on\":1577923200,\"scopus_subjects\":[\"Biochemistry, Genetics and Molecular Biology\",\"Life Sciences\"],\"readers\":{\"citeulike\":\"0\",\"mendeley\":\"18\",\"connotea\":\"0\"},\"readers_count\":18,\"images\":{\"small\":\"https://badges.altmetric.com/?size=64&amp;score=1&amp;types=tttttttt\",\"medium\":\"https://badges.altmetric.com/?size=100&amp;score=1&amp;types=tttttttt\",\"large\":\"https://badges.altmetric.com/?size=180&amp;score=1&amp;types=tttttttt\"},\"details_url\":\"https://www.altmetric.com/details.php?citation_id=73584247\"}</td>\n",
              "    </tr>\n",
              "    <tr>\n",
              "      <th>3</th>\n",
              "      <td>https://api.altmetric.com/v1/doi/10.1186/s13756-019-0662-8</td>\n",
              "      <td>g34f5w6b</td>\n",
              "      <td>{\"title\":\"European intensive care physicians’ experience of infections due to antibiotic-resistant bacteria\",\"doi\":\"10.1186/s13756-019-0662-8\",\"pmid\":\"31908772\",\"altmetric_jid\":\"4f6fa4d03cf058f61000079e\",\"issns\":[\"2047-2994\"],\"journal\":\"Antimicrobial Resistance and Infection Control\",\"cohorts\":{\"sci\":3,\"doc\":1,\"com\":1,\"pub\":7},\"context\":{\"all\":{\"count\":20114180,\"mean\":9.727389579790733,\"rank\":1619631,\"pct\":91,\"higher_than\":18480332},\"journal\":{\"count\":1129,\"mean\":16.29156067316209,\"rank\":214,\"pct\":80,\"higher_than\":914},\"similar_age_3m\":{\"count\":414496,\"mean\":13.22304370609032,\"rank\":50907,\"pct\":87,\"higher_than\":363404},\"similar_age_journal_3m\":{\"count\":203,\"mean\":13.924945812807882,\"rank\":57,\"pct\":72,\"higher_than\":147}},\"authors\":[\"Alain Lepape\",\"Astrid Jean\",\"Jan De Waele\",\"Arnaud Friggeri\",\"Anne Savey\",\"Philippe Vanhems\",\"Marie Paule Gustin\",\"Dominique L. Monnet\",\"José Garnacho-Montero\",\"Anke Kohlenberg\"],\"type\":\"article\",\"altmetric_id\":73534332,\"schema\":\"1.5.4\",\"is_oa\":false,\"publisher_subjects\":[{\"name\":\"Biomedicine\",\"scheme\":\"springer\"},{\"name\":\"Drug Resistance\",\"scheme\":\"springer\"},{\"name\":\"Infectious Diseases\",\"scheme\":\"springer\"},{\"name\":\"Medical Microbiology\",\"scheme\":\"springer\"}],\"cited_by_posts_count\":18,\"cited_by_tweeters_count\":12,\"cited_by_msm_count\":1,\"cited_by_accounts_count\":13,\"last_updated\":1611329758,\"score\":16,\"history\":{\"1y\":0,\"6m\":0,\"3m\":0,\"1m\":0,\"1w\":0,\"6d\":0,\"5d\":0,\"4d\":0,\"3d\":0,\"2d\":0,\"1d\":0,\"at\":16},\"url\":\"http://dx.doi.org/10.1186/s13756-019-0662-8\",\"added_on\":1578014747,\"published_on\":1577923200,\"readers\":{\"citeulike\":\"0\",\"mendeley\":\"40\",\"connotea\":\"0\"},\"readers_count\":40,\"images\":{\"small\":\"https://badges.altmetric.com/?size=64&amp;score=16&amp;types=mmtttttt\",\"medium\":\"https://badges.altmetric.com/?size=100&amp;score=16&amp;types=mmtttttt\",\"large\":\"https://badges.altmetric.com/?size=180&amp;score=16&amp;types=mmtttttt\"},\"details_url\":\"https://www.altmetric.com/details.php?citation_id=73534332\"}</td>\n",
              "    </tr>\n",
              "    <tr>\n",
              "      <th>4</th>\n",
              "      <td>https://api.altmetric.com/v1/doi/10.1186/s12929-019-0591-0</td>\n",
              "      <td>d1pd09zj</td>\n",
              "      <td>{\"title\":\"Synthetic carbohydrate-based vaccines: challenges and opportunities\",\"doi\":\"10.1186/s12929-019-0591-0\",\"pmid\":\"31900143\",\"altmetric_jid\":\"4f6fa4d03cf058f610000847\",\"issns\":[\"1423-0127\"],\"journal\":\"Journal of Biomedical Science\",\"cohorts\":[],\"context\":{\"all\":{\"count\":20585915,\"mean\":9.827256996650396,\"rank\":6693722,\"pct\":45,\"higher_than\":9311040},\"journal\":{\"count\":900,\"mean\":7.958700000000001,\"rank\":256,\"pct\":46,\"higher_than\":419},\"similar_age_3m\":{\"count\":420021,\"mean\":14.9427712804823,\"rank\":160071,\"pct\":60,\"higher_than\":254832},\"similar_age_journal_3m\":{\"count\":64,\"mean\":5.92109375,\"rank\":19,\"pct\":71,\"higher_than\":46}},\"authors\":[\"Ravinder Mettu\",\"Chiang-Yun Chen\",\"Chung-Yi Wu\"],\"type\":\"article\",\"altmetric_id\":115632797,\"schema\":\"1.5.4\",\"is_oa\":false,\"publisher_subjects\":[{\"name\":\"Medical And Health Sciences\",\"scheme\":\"era\"},{\"name\":\"Biological Sciences\",\"scheme\":\"era\"},{\"name\":\"Information And Computing Sciences\",\"scheme\":\"era\"},{\"name\":\"Biomedicine\",\"scheme\":\"springer\"},{\"name\":\"Biomedicine, general\",\"scheme\":\"springer\"}],\"cited_by_policies_count\":1,\"cited_by_posts_count\":1,\"cited_by_accounts_count\":1,\"last_updated\":1632873600,\"score\":3,\"history\":{\"1y\":3,\"6m\":0,\"3m\":0,\"1m\":0,\"1w\":0,\"6d\":0,\"5d\":0,\"4d\":0,\"3d\":0,\"2d\":0,\"1d\":0,\"at\":3},\"url\":\"http://dx.doi.org/10.1186/s12929-019-0591-0\",\"added_on\":1634959915,\"published_on\":1578009600,\"scopus_subjects\":[\"Biochemistry, Genetics and Molecular Biology\",\"Life Sciences\",\"Health Sciences\",\"Medicine\"],\"readers\":{\"citeulike\":\"0\",\"mendeley\":\"100\",\"connotea\":\"0\"},\"readers_count\":100,\"images\":{\"small\":\"https://badges.altmetric.com/?size=64&amp;score=3&amp;types=dddddddd\",\"medium\":\"https://badges.altmetric.com/?size=100&amp;score=3&amp;types=dddddddd\",\"large\":\"https://badges.altmetric.com/?size=180&amp;score=3&amp;types=dddddddd\"},\"details_url\":\"https://www.altmetric.com/details.php?citation_id=115632797\"}</td>\n",
              "    </tr>\n",
              "    <tr>\n",
              "      <th>...</th>\n",
              "      <td>...</td>\n",
              "      <td>...</td>\n",
              "      <td>...</td>\n",
              "    </tr>\n",
              "    <tr>\n",
              "      <th>9995</th>\n",
              "      <td>https://api.altmetric.com/v1/doi/10.3390/medicina56120725</td>\n",
              "      <td>i2b6prxu</td>\n",
              "      <td>{\"title\":\"Suicidality in Patients with Brain Tumors: A Brief Literature Review with Clinical Exemplar\",\"doi\":\"10.3390/medicina56120725\",\"pmid\":\"33371470\",\"altmetric_jid\":\"4f6fa62c3cf058f610008138\",\"issns\":[\"1010-660X\"],\"journal\":\"Medicina (Rijeka)\",\"cohorts\":{\"pub\":1,\"doc\":1},\"context\":{\"all\":{\"count\":19862278,\"mean\":9.7093333346782,\"rank\":12229015,\"pct\":36,\"higher_than\":7244689},\"journal\":{\"count\":790,\"mean\":3.1954481012658,\"rank\":268,\"pct\":62,\"higher_than\":491},\"similar_age_3m\":{\"count\":469048,\"mean\":15.11318328188,\"rank\":249608,\"pct\":43,\"higher_than\":205966},\"similar_age_journal_3m\":{\"count\":9,\"mean\":4.4777777777778,\"rank\":9,\"pct\":11,\"higher_than\":1}},\"authors\":[\"Alessandra Costanza\",\"Francesco Zenga\",\"Roberta Rudà\",\"Andrea Amerio\",\"Andrea Aguglia\",\"Gianluca Serafini\",\"Mario Amore\",\"Guido Bondolfi\",\"Isabella Berardelli\",\"Khoa Dinh Nguyen\"],\"type\":\"article\",\"altmetric_id\":96862096,\"schema\":\"1.5.4\",\"is_oa\":false,\"cited_by_posts_count\":2,\"cited_by_tweeters_count\":2,\"cited_by_accounts_count\":2,\"last_updated\":1609389107,\"score\":1.5,\"history\":{\"1y\":0,\"6m\":0,\"3m\":0,\"1m\":0,\"1w\":0,\"6d\":0,\"5d\":0,\"4d\":0,\"3d\":0,\"2d\":0,\"1d\":0,\"at\":1.5},\"url\":\"http://dx.doi.org/10.3390/medicina56120725\",\"added_on\":1609387685,\"published_on\":1608508800,\"scopus_subjects\":[\"Medicine\",\"Health Sciences\"],\"readers\":{\"citeulike\":\"0\",\"mendeley\":\"13\",\"connotea\":\"0\"},\"readers_count\":13,\"images\":{\"small\":\"https://badges.altmetric.com/?size=64&amp;score=2&amp;types=tttttttt\",\"medium\":\"https://badges.altmetric.com/?size=100&amp;score=2&amp;types=tttttttt\",\"large\":\"https://badges.altmetric.com/?size=180&amp;score=2&amp;types=tttttttt\"},\"details_url\":\"https://www.altmetric.com/details.php?citation_id=96862096\"}</td>\n",
              "    </tr>\n",
              "    <tr>\n",
              "      <th>9996</th>\n",
              "      <td>https://api.altmetric.com/v1/doi/10.3390/v12121475</td>\n",
              "      <td>t6ww61va</td>\n",
              "      <td>{\"title\":\"The Antimalarial Compound Atovaquone Inhibits Zika and Dengue Virus Infection by Blocking E Protein-Mediated Membrane Fusion\",\"doi\":\"10.3390/v12121475\",\"pmid\":\"33371476\",\"altmetric_jid\":\"4f6fa53b3cf058f610004704\",\"issns\":[\"1999-4915\"],\"journal\":\"Viruses\",\"cohorts\":{\"pub\":4,\"com\":1},\"context\":{\"all\":{\"count\":20591902,\"mean\":9.828340837004752,\"rank\":2397820,\"pct\":88,\"higher_than\":18164492},\"journal\":{\"count\":6591,\"mean\":11.676221817630566,\"rank\":782,\"pct\":88,\"higher_than\":5809},\"similar_age_3m\":{\"count\":478891,\"mean\":15.228466761745947,\"rank\":80916,\"pct\":82,\"higher_than\":397361},\"similar_age_journal_3m\":{\"count\":66,\"mean\":32.441000000000045,\"rank\":20,\"pct\":71,\"higher_than\":47}},\"authors\":[\"Mizuki Yamamoto\",\"Takeshi Ichinohe\",\"Aya Watanabe\",\"Ayako Kobayashi\",\"Rui Zhang\",\"Jiping Song\",\"Yasushi Kawaguchi\",\"Zene Matsuda\",\"Jun-ichiro Inoue\"],\"type\":\"article\",\"altmetric_id\":96843504,\"schema\":\"1.5.4\",\"is_oa\":false,\"cited_by_posts_count\":6,\"cited_by_tweeters_count\":5,\"cited_by_msm_count\":1,\"cited_by_accounts_count\":6,\"last_updated\":1639752900,\"score\":11,\"history\":{\"1y\":7,\"6m\":7,\"3m\":0,\"1m\":0,\"1w\":0,\"6d\":0,\"5d\":0,\"4d\":0,\"3d\":0,\"2d\":0,\"1d\":0,\"at\":11},\"url\":\"http://dx.doi.org/10.3390/v12121475\",\"added_on\":1609348913,\"published_on\":1608508800,\"readers\":{\"citeulike\":\"0\",\"mendeley\":\"11\",\"connotea\":\"0\"},\"readers_count\":11,\"images\":{\"small\":\"https://badges.altmetric.com/?size=64&amp;score=11&amp;types=mttttttt\",\"medium\":\"https://badges.altmetric.com/?size=100&amp;score=11&amp;types=mttttttt\",\"large\":\"https://badges.altmetric.com/?size=180&amp;score=11&amp;types=mttttttt\"},\"details_url\":\"https://www.altmetric.com/details.php?citation_id=96843504\"}</td>\n",
              "    </tr>\n",
              "    <tr>\n",
              "      <th>9997</th>\n",
              "      <td>https://api.altmetric.com/v1/doi/10.3390/pathogens9121078</td>\n",
              "      <td>jz1g2ima</td>\n",
              "      <td>{\"title\":\"Computational Analysis of African Swine Fever Virus Protein Space for the Design of an Epitope-Based Vaccine Ensemble\",\"doi\":\"10.3390/pathogens9121078\",\"pmid\":\"33371523\",\"altmetric_jid\":\"56c1ef652a83ee09648b4f1a\",\"issns\":[\"2076-0817\"],\"journal\":\"Pathogens\",\"cohorts\":{\"pub\":1,\"sci\":1},\"context\":{\"all\":{\"count\":19856719,\"mean\":9.708293939905662,\"rank\":15358038,\"pct\":19,\"higher_than\":3908178},\"journal\":{\"count\":2324,\"mean\":5.527880378657494,\"rank\":1423,\"pct\":31,\"higher_than\":730},\"similar_age_3m\":{\"count\":469732,\"mean\":15.082526304359568,\"rank\":326378,\"pct\":26,\"higher_than\":123549},\"similar_age_journal_3m\":{\"count\":51,\"mean\":5.891098039215687,\"rank\":34,\"pct\":29,\"higher_than\":15}},\"authors\":[\"Albert Ros-Lucas\",\"Florencia Correa-Fiz\",\"Laia Bosch-Camós\",\"Fernando Rodriguez\",\"Julio Alonso-Padilla\"],\"type\":\"article\",\"altmetric_id\":96794458,\"schema\":\"1.5.4\",\"is_oa\":false,\"cited_by_posts_count\":2,\"cited_by_tweeters_count\":2,\"cited_by_accounts_count\":2,\"last_updated\":1609326963,\"score\":0.75,\"history\":{\"1y\":0,\"6m\":0,\"3m\":0,\"1m\":0,\"1w\":0,\"6d\":0,\"5d\":0,\"4d\":0,\"3d\":0,\"2d\":0,\"1d\":0,\"at\":0.75},\"url\":\"http://dx.doi.org/10.3390/pathogens9121078\",\"added_on\":1609243234,\"published_on\":1608508800,\"readers\":{\"citeulike\":\"0\",\"mendeley\":\"19\",\"connotea\":\"0\"},\"readers_count\":19,\"images\":{\"small\":\"https://badges.altmetric.com/?size=64&amp;score=1&amp;types=tttttttt\",\"medium\":\"https://badges.altmetric.com/?size=100&amp;score=1&amp;types=tttttttt\",\"large\":\"https://badges.altmetric.com/?size=180&amp;score=1&amp;types=tttttttt\"},\"details_url\":\"https://www.altmetric.com/details.php?citation_id=96794458\"}</td>\n",
              "    </tr>\n",
              "    <tr>\n",
              "      <th>9998</th>\n",
              "      <td>https://api.altmetric.com/v1/doi/10.3390/jof6040385</td>\n",
              "      <td>kzo7ez30</td>\n",
              "      <td>{\"title\":\"Safety and Efficacy of Intermittent High-Dose Liposomal Amphotericin B Antifungal Prophylaxis in Haemato-Oncology: An Eight-Year Single-Centre Experience and Review of the Literature\",\"doi\":\"10.3390/jof6040385\",\"pmid\":\"33371513\",\"altmetric_jid\":\"56b368412a83ee42788b45f4\",\"issns\":[\"2309-608X\"],\"journal\":\"Journal of Fungi\",\"cohorts\":{\"doc\":1,\"sci\":1},\"context\":{\"all\":{\"count\":20457135,\"mean\":9.806595773656207,\"rank\":12209844,\"pct\":39,\"higher_than\":8059486},\"journal\":{\"count\":1485,\"mean\":5.0721481481481465,\"rank\":670,\"pct\":52,\"higher_than\":784},\"similar_age_3m\":{\"count\":371446,\"mean\":17.421974451197844,\"rank\":190592,\"pct\":47,\"higher_than\":175195},\"similar_age_journal_3m\":{\"count\":28,\"mean\":5.889285714285714,\"rank\":22,\"pct\":21,\"higher_than\":6}},\"authors\":[\"Jonathan Youngs\",\"Jen Mae Low\",\"Laura Whitney\",\"Clare Logan\",\"Janice Chase\",\"Ting Yau\",\"Matthias Klammer\",\"Mickey Koh\",\"Tihana Bicanic\"],\"type\":\"article\",\"altmetric_id\":101640170,\"schema\":\"1.5.4\",\"is_oa\":false,\"cited_by_posts_count\":2,\"cited_by_tweeters_count\":2,\"cited_by_accounts_count\":2,\"last_updated\":1615395830,\"score\":1.85,\"history\":{\"1y\":0,\"6m\":0,\"3m\":0,\"1m\":0,\"1w\":0,\"6d\":0,\"5d\":0,\"4d\":0,\"3d\":0,\"2d\":0,\"1d\":0,\"at\":1.85},\"url\":\"http://dx.doi.org/10.3390/jof6040385\",\"added_on\":1616063469,\"published_on\":1608508800,\"readers\":{\"citeulike\":\"0\",\"mendeley\":\"9\",\"connotea\":\"0\"},\"readers_count\":9,\"images\":{\"small\":\"https://badges.altmetric.com/?size=64&amp;score=2&amp;types=tttttttt\",\"medium\":\"https://badges.altmetric.com/?size=100&amp;score=2&amp;types=tttttttt\",\"large\":\"https://badges.altmetric.com/?size=180&amp;score=2&amp;types=tttttttt\"},\"details_url\":\"https://www.altmetric.com/details.php?citation_id=101640170\"}</td>\n",
              "    </tr>\n",
              "    <tr>\n",
              "      <th>9999</th>\n",
              "      <td>https://api.altmetric.com/v1/doi/10.3389/fpls.2020.610790</td>\n",
              "      <td>xkt8gd9p</td>\n",
              "      <td>{\"title\":\"Accurate Detection and Evaluation of the Gene-Editing Frequency in Plants Using Droplet Digital PCR\",\"doi\":\"10.3389/fpls.2020.610790\",\"pmid\":\"33381141\",\"altmetric_jid\":\"52f8bc933cf058d4628b456f\",\"issns\":[\"1664-462X\"],\"journal\":\"Frontiers in Plant Science\",\"cohorts\":{\"pub\":1,\"sci\":2,\"com\":1},\"context\":{\"all\":{\"count\":19865530,\"mean\":9.70952590150238,\"rank\":2300345,\"pct\":88,\"higher_than\":17534977},\"journal\":{\"count\":14862,\"mean\":4.08371053693987,\"rank\":999,\"pct\":93,\"higher_than\":13850},\"similar_age_3m\":{\"count\":468899,\"mean\":15.102322640908692,\"rank\":78881,\"pct\":83,\"higher_than\":389360},\"similar_age_journal_3m\":{\"count\":931,\"mean\":4.096863587540281,\"rank\":62,\"pct\":93,\"higher_than\":870}},\"authors\":[\"Cheng Peng\",\"Ming Zheng\",\"Lin Ding\",\"Xiaoyun Chen\",\"Xiaofu Wang\",\"Xuping Feng\",\"Junmin Wang\",\"Junfeng Xu\"],\"type\":\"article\",\"altmetric_id\":96961673,\"schema\":\"1.5.4\",\"is_oa\":false,\"cited_by_posts_count\":5,\"cited_by_tweeters_count\":4,\"cited_by_msm_count\":1,\"cited_by_accounts_count\":5,\"last_updated\":1633305600,\"score\":11,\"history\":{\"1y\":9.75,\"6m\":7,\"3m\":0,\"1m\":0,\"1w\":0,\"6d\":0,\"5d\":0,\"4d\":0,\"3d\":0,\"2d\":0,\"1d\":0,\"at\":11},\"url\":\"http://dx.doi.org/10.3389/fpls.2020.610790\",\"added_on\":1609560075,\"published_on\":1607904000,\"readers\":{\"citeulike\":\"0\",\"mendeley\":\"20\",\"connotea\":\"0\"},\"readers_count\":20,\"images\":{\"small\":\"https://badges.altmetric.com/?size=64&amp;score=11&amp;types=mmtttttt\",\"medium\":\"https://badges.altmetric.com/?size=100&amp;score=11&amp;types=mmtttttt\",\"large\":\"https://badges.altmetric.com/?size=180&amp;score=11&amp;types=mmtttttt\"},\"details_url\":\"https://www.altmetric.com/details.php?citation_id=96961673\"}</td>\n",
              "    </tr>\n",
              "  </tbody>\n",
              "</table>\n",
              "<p>10000 rows × 3 columns</p>\n",
              "</div>\n",
              "      <button class=\"colab-df-convert\" onclick=\"convertToInteractive('df-b1c7e7af-73e0-4a38-87b8-1b723afed365')\"\n",
              "              title=\"Convert this dataframe to an interactive table.\"\n",
              "              style=\"display:none;\">\n",
              "        \n",
              "  <svg xmlns=\"http://www.w3.org/2000/svg\" height=\"24px\"viewBox=\"0 0 24 24\"\n",
              "       width=\"24px\">\n",
              "    <path d=\"M0 0h24v24H0V0z\" fill=\"none\"/>\n",
              "    <path d=\"M18.56 5.44l.94 2.06.94-2.06 2.06-.94-2.06-.94-.94-2.06-.94 2.06-2.06.94zm-11 1L8.5 8.5l.94-2.06 2.06-.94-2.06-.94L8.5 2.5l-.94 2.06-2.06.94zm10 10l.94 2.06.94-2.06 2.06-.94-2.06-.94-.94-2.06-.94 2.06-2.06.94z\"/><path d=\"M17.41 7.96l-1.37-1.37c-.4-.4-.92-.59-1.43-.59-.52 0-1.04.2-1.43.59L10.3 9.45l-7.72 7.72c-.78.78-.78 2.05 0 2.83L4 21.41c.39.39.9.59 1.41.59.51 0 1.02-.2 1.41-.59l7.78-7.78 2.81-2.81c.8-.78.8-2.07 0-2.86zM5.41 20L4 18.59l7.72-7.72 1.47 1.35L5.41 20z\"/>\n",
              "  </svg>\n",
              "      </button>\n",
              "      \n",
              "  <style>\n",
              "    .colab-df-container {\n",
              "      display:flex;\n",
              "      flex-wrap:wrap;\n",
              "      gap: 12px;\n",
              "    }\n",
              "\n",
              "    .colab-df-convert {\n",
              "      background-color: #E8F0FE;\n",
              "      border: none;\n",
              "      border-radius: 50%;\n",
              "      cursor: pointer;\n",
              "      display: none;\n",
              "      fill: #1967D2;\n",
              "      height: 32px;\n",
              "      padding: 0 0 0 0;\n",
              "      width: 32px;\n",
              "    }\n",
              "\n",
              "    .colab-df-convert:hover {\n",
              "      background-color: #E2EBFA;\n",
              "      box-shadow: 0px 1px 2px rgba(60, 64, 67, 0.3), 0px 1px 3px 1px rgba(60, 64, 67, 0.15);\n",
              "      fill: #174EA6;\n",
              "    }\n",
              "\n",
              "    [theme=dark] .colab-df-convert {\n",
              "      background-color: #3B4455;\n",
              "      fill: #D2E3FC;\n",
              "    }\n",
              "\n",
              "    [theme=dark] .colab-df-convert:hover {\n",
              "      background-color: #434B5C;\n",
              "      box-shadow: 0px 1px 3px 1px rgba(0, 0, 0, 0.15);\n",
              "      filter: drop-shadow(0px 1px 2px rgba(0, 0, 0, 0.3));\n",
              "      fill: #FFFFFF;\n",
              "    }\n",
              "  </style>\n",
              "\n",
              "      <script>\n",
              "        const buttonEl =\n",
              "          document.querySelector('#df-b1c7e7af-73e0-4a38-87b8-1b723afed365 button.colab-df-convert');\n",
              "        buttonEl.style.display =\n",
              "          google.colab.kernel.accessAllowed ? 'block' : 'none';\n",
              "\n",
              "        async function convertToInteractive(key) {\n",
              "          const element = document.querySelector('#df-b1c7e7af-73e0-4a38-87b8-1b723afed365');\n",
              "          const dataTable =\n",
              "            await google.colab.kernel.invokeFunction('convertToInteractive',\n",
              "                                                     [key], {});\n",
              "          if (!dataTable) return;\n",
              "\n",
              "          const docLinkHtml = 'Like what you see? Visit the ' +\n",
              "            '<a target=\"_blank\" href=https://colab.research.google.com/notebooks/data_table.ipynb>data table notebook</a>'\n",
              "            + ' to learn more about interactive tables.';\n",
              "          element.innerHTML = '';\n",
              "          dataTable['output_type'] = 'display_data';\n",
              "          await google.colab.output.renderOutput(dataTable, element);\n",
              "          const docLink = document.createElement('div');\n",
              "          docLink.innerHTML = docLinkHtml;\n",
              "          element.appendChild(docLink);\n",
              "        }\n",
              "      </script>\n",
              "    </div>\n",
              "  </div>\n",
              "  "
            ]
          },
          "metadata": {},
          "execution_count": 29
        }
      ]
    },
    {
      "cell_type": "code",
      "source": [
        ""
      ],
      "metadata": {
        "id": "wHdFZ1iL_-cm"
      },
      "execution_count": null,
      "outputs": []
    }
  ]
}